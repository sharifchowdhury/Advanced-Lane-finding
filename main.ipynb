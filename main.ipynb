{
 "cells": [
  {
   "cell_type": "markdown",
   "metadata": {},
   "source": [
    "## Advanced Lane Finding Project\n",
    "\n",
    "The goals / steps of this project are the following:\n",
    "\n",
    "* Compute the camera calibration matrix and distortion coefficients given a set of chessboard images.\n",
    "* Apply a distortion correction to raw images.\n",
    "* Use color transforms, gradients, etc., to create a thresholded binary image.\n",
    "* Apply a perspective transform to rectify binary image (\"birds-eye view\").\n",
    "* Detect lane pixels and fit to find the lane boundary.\n",
    "* Determine the curvature of the lane and vehicle position with respect to center.\n",
    "* Warp the detected lane boundaries back onto the original image.\n",
    "* Output visual display of the lane boundaries and numerical estimation of lane curvature and vehicle position.\n",
    "\n",
    "---\n",
    "## First, I'll compute the camera calibration using chessboard images"
   ]
  },
  {
   "cell_type": "code",
   "execution_count": 5,
   "metadata": {
    "scrolled": true
   },
   "outputs": [
    {
     "name": "stdout",
     "output_type": "stream",
     "text": [
      "FALSE\n",
      "[[-6.15384615e-01 -1.37820513e+00  9.69230769e+02]\n",
      " [ 1.97716240e-16 -1.96794872e+00  8.90769231e+02]\n",
      " [ 0.00000000e+00 -2.40384615e-03  1.00000000e+00]]\n",
      "[[ 1.43118893e-01 -7.85830619e-01  5.61278502e+02]\n",
      " [-2.27373675e-16 -5.08143322e-01  4.52638436e+02]\n",
      " [-2.41886889e-19 -1.22149837e-03  1.00000000e+00]]\n"
     ]
    }
   ],
   "source": [
    "import numpy as np\n",
    "import cv2\n",
    "import glob\n",
    "import matplotlib.pyplot as plt\n",
    "import matplotlib.image as mpimg\n",
    "# Import everything needed to edit/save/watch video clips\n",
    "from moviepy.editor import VideoFileClip\n",
    "from IPython.display import HTML\n",
    "\n",
    "%matplotlib qt\n",
    "\n",
    "import cv2\n",
    "from lib  import CameraCalibrate, EstimateWrapParameterWrapper, IMREAD, warp_image, BinarizeImage, fit_polynomial, search_around_poly, cal_undistort, measure_curvature_real\n",
    "## Initialize\n",
    "# initialize paths\n",
    "calDataPath = 'camera_cal'\n",
    "testDataPath = 'test_images'\n",
    "\n",
    "# initialize parameters\n",
    "mtx, dist  = CameraCalibrate(calDataPath)\n",
    "M, Minv = EstimateWrapParameterWrapper(mtx, dist, False, True, 'straight_lines1*.jpg')\n",
    "#M = EstimateWrapParameterWrapper(mtx, dist, True, False)\n",
    "#M = EstimateWrapParameterWrapper(mtx, dist)\n",
    "\n",
    "\n",
    "\n",
    "#print(M)\n",
    "#print(Minv)\n",
    "\n"
   ]
  },
  {
   "cell_type": "markdown",
   "metadata": {},
   "source": [
    "## And so on and so forth..."
   ]
  },
  {
   "cell_type": "code",
   "execution_count": 6,
   "metadata": {},
   "outputs": [],
   "source": [
    "left_fit = []\n",
    "right_fit = []\n",
    "left_fitx_old = []\n",
    "right_fitx_old = []\n",
    "ind= 0\n",
    "cr=[]\n",
    "pt=[]\n",
    "\n",
    "\n",
    "\n",
    "def init():\n",
    "    global left_fit\n",
    "    global right_fit\n",
    "    global left_fitx_old\n",
    "    global right_fitx_old\n",
    "    global ind\n",
    "    global cr\n",
    "    global pt\n",
    "    left_fit = []\n",
    "    right_fit = []\n",
    "    left_fitx_old = []\n",
    "    right_fitx_old = []\n",
    "    ind= 0\n",
    "    cr=[]\n",
    "    pt=[]\n",
    "  \n",
    "\n",
    "\n",
    "def Recast(warped,undist,left_fitx, right_fitx, ploty):\n",
    "    #global cr\n",
    "    #global pt\n",
    "    \n",
    "    # Create an image to draw the lines on\n",
    "    warp_zero = np.zeros_like(warped).astype(np.uint8)\n",
    "    color_warp = np.dstack((warp_zero, warp_zero, warp_zero))\n",
    "    # Recast the x and y points into usable format for cv2.fillPoly()\n",
    "    pts_left = np.array([np.transpose(np.vstack([left_fitx, ploty]))])\n",
    "    pts_right = np.array([np.flipud(np.transpose(np.vstack([right_fitx, ploty])))])\n",
    "    pts = np.hstack((pts_left, pts_right))\n",
    "    ## DEBUG\n",
    "    #print('pts::')\n",
    "    #print( color_warp.shape )\n",
    "    #print(pts)\n",
    "    #cr =color_warp\n",
    "    #pt = pts\n",
    "    cv2.fillPoly(color_warp, np.int_(pts), (0,255, 0))\n",
    "    newwarp = cv2.warpPerspective(color_warp, Minv, (color_warp.shape[1], color_warp.shape[0])) \n",
    "    result = cv2.addWeighted(undist, 1, newwarp, 0.3, 0)\n",
    "    return result\n",
    "\n",
    "\n",
    "def updateFit(old,new,x_old,x,thres= 50):\n",
    "\n",
    "    delta = np.mean(np.absolute(x_old-x))\n",
    "    \n",
    "    if delta > thres:\n",
    "        res = old\n",
    "        ret_X = x_old\n",
    "    else:\n",
    "        res = new\n",
    "        ret_X = x\n",
    "        \n",
    "    return res, ret_X\n",
    "\n",
    "    \n",
    "\n",
    "def process_image(frame, viz=False, name='None'):\n",
    "    global left_fit\n",
    "    global right_fit\n",
    "    global left_fitx_old\n",
    "    global right_fitx_old\n",
    "    global ind\n",
    "    print('In process_image2')\n",
    "    \n",
    "    #plt.imshow(frame)\n",
    "    \n",
    "    \n",
    "    img = cal_undistort(frame, mtx,dist);\n",
    "\n",
    "    if viz:\n",
    "        cv2.imwrite('rawdata/'+name +'or.tif',  cv2.cvtColor(frame,cv2.COLOR_BGR2RGB ))\n",
    "        cv2.imwrite('rawdata/'+name +'or_cal.tif',  cv2.cvtColor(img,cv2.COLOR_BGR2RGB ))\n",
    "    \n",
    "    \n",
    "    #img = cv2.cvtColor(img, cv2.COLOR_BGR2RGB )\n",
    "    #figure(ind)\n",
    "    #plt.imshow(img)\n",
    "    img =  warp_image(img, M)\n",
    "    \n",
    "\n",
    "    \n",
    "    #cv2.imwrite('rawdata/' + str(ind)+'im.tif',  img)\n",
    "        \n",
    "    binaryImage = BinarizeImage(img,s_thresh=(170, 255), sx_thresh=(20, 150))\n",
    "    \n",
    "   \n",
    "    \n",
    "    \n",
    "    \n",
    "    #cv2.imwrite('rawdata/' + str(ind)+'msk.tif',  mask*255)\n",
    "    wrappedBinaryI = binaryImage[:,:,0]+ binaryImage[:,:,1]+binaryImage[:,:,2]\n",
    "    wrappedBinaryI[wrappedBinaryI>0]=1\n",
    "    #BI = BI*mask\n",
    "    #wrappedBinaryI = BI\n",
    "    \n",
    "    if viz:\n",
    "        cv2.imwrite('rawdata/' + name +'or_cal_wr.tif',  cv2.cvtColor(img,cv2.COLOR_BGR2RGB ))\n",
    "        cv2.imwrite('rawdata/' + name +'or_cal_wr_bin.tif',  wrappedBinaryI*255)\n",
    "\n",
    "\n",
    "    if len(left_fit) == 0:\n",
    "        outIM, left_fit, right_fit = fit_polynomial(wrappedBinaryI)\n",
    "        result, left_fitx, right_fitx, ploty, left_fit_new, right_fit_new, l_fit_2, r_fit_2  = search_around_poly(wrappedBinaryI, left_fit, right_fit)\n",
    "        left_fitx_old = left_fitx\n",
    "        right_fitx_old = right_fitx\n",
    "        \n",
    "    \n",
    "    else:\n",
    "        result, left_fitx, right_fitx, ploty, left_fit_new, right_fit_new, l_fit_2, r_fit_2   = search_around_poly(wrappedBinaryI, left_fit, right_fit)\n",
    "    \n",
    "    left_fit, left_fitx_old = updateFit(left_fit,left_fit_new,left_fitx_old, left_fitx, thres= 50)\n",
    "    right_fit,right_fitx_old = updateFit(right_fit,right_fit_new,right_fitx_old,right_fitx, thres= 50)\n",
    "        \n",
    "\n",
    "   \n",
    "    \n",
    "    resFinal = Recast(img[:,:,0],frame,left_fitx_old, right_fitx_old, ploty)\n",
    "    lrad, rrad, posdelta = measure_curvature_real(l_fit_2, r_fit_2, ploty, Minv)\n",
    "    rad_str = 'Radius of Curvature = '+ str((lrad+rrad)//2  ) + '(m)' \n",
    "    if posdelta<0:\n",
    "        pos = 'left'\n",
    "    else:\n",
    "        pos = 'right'\n",
    "    \n",
    "    pos_str = 'Vehicle is ' + str(np.absolute( ((posdelta*100)//1)/100 )    ) + 'm ' +pos + ' of center'\n",
    "    \n",
    "    resFinal = cv2.putText(resFinal, rad_str, (100,100), cv2.FONT_HERSHEY_SIMPLEX ,  \n",
    "                   1, (255, 255, 255) , 2, cv2.LINE_AA) \n",
    "    resFinal = cv2.putText(resFinal, pos_str, (100,200), cv2.FONT_HERSHEY_SIMPLEX ,  \n",
    "                   1, (255, 255, 255) , 2, cv2.LINE_AA) \n",
    "    \n",
    "    \n",
    "       \n",
    "    if viz:\n",
    "        cv2.imwrite('rawdata/' + name + 'or_res.tif',  cv2.cvtColor(resFinal,cv2.COLOR_BGR2RGB ) )\n",
    "    ind+=1\n",
    "    return resFinal"
   ]
  },
  {
   "cell_type": "code",
   "execution_count": 7,
   "metadata": {
    "scrolled": true
   },
   "outputs": [
    {
     "name": "stderr",
     "output_type": "stream",
     "text": [
      "\r",
      "t:   0%|          | 0/1260 [00:00<?, ?it/s, now=None]"
     ]
    },
    {
     "name": "stdout",
     "output_type": "stream",
     "text": [
      "In process_image2\n",
      "Moviepy - Building video project_video_out.mp4.\n",
      "Moviepy - Writing video project_video_out.mp4\n",
      "\n",
      "In process_image2\n",
      "In process_image2\n"
     ]
    },
    {
     "name": "stderr",
     "output_type": "stream",
     "text": [
      "t:   0%|          | 5/1260 [00:00<01:22, 15.29it/s, now=None]"
     ]
    },
    {
     "name": "stdout",
     "output_type": "stream",
     "text": [
      "In process_image2\n",
      "In process_image2\n",
      "In process_image2\n"
     ]
    },
    {
     "name": "stderr",
     "output_type": "stream",
     "text": [
      "\r",
      "t:   1%|          | 7/1260 [00:00<01:27, 14.28it/s, now=None]"
     ]
    },
    {
     "name": "stdout",
     "output_type": "stream",
     "text": [
      "In process_image2\n",
      "In process_image2\n",
      "In process_image2\n"
     ]
    },
    {
     "name": "stderr",
     "output_type": "stream",
     "text": [
      "t:   1%|          | 11/1260 [00:00<01:32, 13.51it/s, now=None]"
     ]
    },
    {
     "name": "stdout",
     "output_type": "stream",
     "text": [
      "In process_image2\n",
      "In process_image2\n",
      "In process_image2\n"
     ]
    },
    {
     "name": "stderr",
     "output_type": "stream",
     "text": [
      "\r",
      "t:   1%|          | 13/1260 [00:00<01:33, 13.36it/s, now=None]"
     ]
    },
    {
     "name": "stdout",
     "output_type": "stream",
     "text": [
      "In process_image2\n",
      "In process_image2\n",
      "In process_image2\n"
     ]
    },
    {
     "name": "stderr",
     "output_type": "stream",
     "text": [
      "t:   1%|▏         | 17/1260 [00:01<01:33, 13.35it/s, now=None]"
     ]
    },
    {
     "name": "stdout",
     "output_type": "stream",
     "text": [
      "In process_image2\n",
      "In process_image2\n",
      "In process_image2\n"
     ]
    },
    {
     "name": "stderr",
     "output_type": "stream",
     "text": [
      "\r",
      "t:   2%|▏         | 19/1260 [00:01<01:32, 13.44it/s, now=None]"
     ]
    },
    {
     "name": "stdout",
     "output_type": "stream",
     "text": [
      "In process_image2\n",
      "In process_image2\n",
      "In process_image2\n"
     ]
    },
    {
     "name": "stderr",
     "output_type": "stream",
     "text": [
      "t:   2%|▏         | 23/1260 [00:01<01:32, 13.38it/s, now=None]"
     ]
    },
    {
     "name": "stdout",
     "output_type": "stream",
     "text": [
      "In process_image2\n",
      "In process_image2\n",
      "In process_image2\n"
     ]
    },
    {
     "name": "stderr",
     "output_type": "stream",
     "text": [
      "\r",
      "t:   2%|▏         | 25/1260 [00:01<01:32, 13.41it/s, now=None]"
     ]
    },
    {
     "name": "stdout",
     "output_type": "stream",
     "text": [
      "In process_image2\n",
      "In process_image2\n",
      "In process_image2\n"
     ]
    },
    {
     "name": "stderr",
     "output_type": "stream",
     "text": [
      "t:   2%|▏         | 29/1260 [00:02<01:33, 13.17it/s, now=None]"
     ]
    },
    {
     "name": "stdout",
     "output_type": "stream",
     "text": [
      "In process_image2\n",
      "In process_image2\n",
      "In process_image2\n"
     ]
    },
    {
     "name": "stderr",
     "output_type": "stream",
     "text": [
      "\r",
      "t:   2%|▏         | 31/1260 [00:02<01:33, 13.20it/s, now=None]"
     ]
    },
    {
     "name": "stdout",
     "output_type": "stream",
     "text": [
      "In process_image2\n",
      "In process_image2\n",
      "In process_image2\n"
     ]
    },
    {
     "name": "stderr",
     "output_type": "stream",
     "text": [
      "t:   3%|▎         | 35/1260 [00:02<01:33, 13.07it/s, now=None]"
     ]
    },
    {
     "name": "stdout",
     "output_type": "stream",
     "text": [
      "In process_image2\n",
      "In process_image2\n",
      "In process_image2\n"
     ]
    },
    {
     "name": "stderr",
     "output_type": "stream",
     "text": [
      "\r",
      "t:   3%|▎         | 37/1260 [00:02<01:32, 13.20it/s, now=None]"
     ]
    },
    {
     "name": "stdout",
     "output_type": "stream",
     "text": [
      "In process_image2\n",
      "In process_image2\n",
      "In process_image2\n"
     ]
    },
    {
     "name": "stderr",
     "output_type": "stream",
     "text": [
      "t:   3%|▎         | 41/1260 [00:03<01:33, 13.07it/s, now=None]"
     ]
    },
    {
     "name": "stdout",
     "output_type": "stream",
     "text": [
      "In process_image2\n",
      "In process_image2\n",
      "In process_image2\n"
     ]
    },
    {
     "name": "stderr",
     "output_type": "stream",
     "text": [
      "\r",
      "t:   3%|▎         | 43/1260 [00:03<01:33, 13.03it/s, now=None]"
     ]
    },
    {
     "name": "stdout",
     "output_type": "stream",
     "text": [
      "In process_image2\n",
      "In process_image2\n",
      "In process_image2\n"
     ]
    },
    {
     "name": "stderr",
     "output_type": "stream",
     "text": [
      "t:   4%|▎         | 47/1260 [00:03<01:32, 13.06it/s, now=None]"
     ]
    },
    {
     "name": "stdout",
     "output_type": "stream",
     "text": [
      "In process_image2\n",
      "In process_image2\n",
      "In process_image2\n"
     ]
    },
    {
     "name": "stderr",
     "output_type": "stream",
     "text": [
      "\r",
      "t:   4%|▍         | 49/1260 [00:03<01:33, 12.95it/s, now=None]"
     ]
    },
    {
     "name": "stdout",
     "output_type": "stream",
     "text": [
      "In process_image2\n",
      "In process_image2\n",
      "In process_image2\n"
     ]
    },
    {
     "name": "stderr",
     "output_type": "stream",
     "text": [
      "t:   4%|▍         | 53/1260 [00:04<01:32, 13.09it/s, now=None]"
     ]
    },
    {
     "name": "stdout",
     "output_type": "stream",
     "text": [
      "In process_image2\n",
      "In process_image2\n",
      "In process_image2\n"
     ]
    },
    {
     "name": "stderr",
     "output_type": "stream",
     "text": [
      "\r",
      "t:   4%|▍         | 55/1260 [00:04<01:32, 12.98it/s, now=None]"
     ]
    },
    {
     "name": "stdout",
     "output_type": "stream",
     "text": [
      "In process_image2\n",
      "In process_image2\n",
      "In process_image2\n"
     ]
    },
    {
     "name": "stderr",
     "output_type": "stream",
     "text": [
      "t:   5%|▍         | 59/1260 [00:04<01:32, 12.94it/s, now=None]"
     ]
    },
    {
     "name": "stdout",
     "output_type": "stream",
     "text": [
      "In process_image2\n",
      "In process_image2\n",
      "In process_image2\n"
     ]
    },
    {
     "name": "stderr",
     "output_type": "stream",
     "text": [
      "\r",
      "t:   5%|▍         | 61/1260 [00:04<01:34, 12.69it/s, now=None]"
     ]
    },
    {
     "name": "stdout",
     "output_type": "stream",
     "text": [
      "In process_image2\n",
      "In process_image2\n",
      "In process_image2\n"
     ]
    },
    {
     "name": "stderr",
     "output_type": "stream",
     "text": [
      "t:   5%|▌         | 65/1260 [00:04<01:32, 12.91it/s, now=None]"
     ]
    },
    {
     "name": "stdout",
     "output_type": "stream",
     "text": [
      "In process_image2\n",
      "In process_image2\n",
      "In process_image2\n"
     ]
    },
    {
     "name": "stderr",
     "output_type": "stream",
     "text": [
      "\r",
      "t:   5%|▌         | 67/1260 [00:05<01:30, 13.11it/s, now=None]"
     ]
    },
    {
     "name": "stdout",
     "output_type": "stream",
     "text": [
      "In process_image2\n",
      "In process_image2\n",
      "In process_image2\n"
     ]
    },
    {
     "name": "stderr",
     "output_type": "stream",
     "text": [
      "t:   6%|▌         | 71/1260 [00:05<01:32, 12.86it/s, now=None]"
     ]
    },
    {
     "name": "stdout",
     "output_type": "stream",
     "text": [
      "In process_image2\n",
      "In process_image2\n",
      "In process_image2\n"
     ]
    },
    {
     "name": "stderr",
     "output_type": "stream",
     "text": [
      "\r",
      "t:   6%|▌         | 73/1260 [00:05<01:33, 12.69it/s, now=None]"
     ]
    },
    {
     "name": "stdout",
     "output_type": "stream",
     "text": [
      "In process_image2\n",
      "In process_image2\n",
      "In process_image2\n"
     ]
    },
    {
     "name": "stderr",
     "output_type": "stream",
     "text": [
      "t:   6%|▌         | 77/1260 [00:05<01:34, 12.50it/s, now=None]"
     ]
    },
    {
     "name": "stdout",
     "output_type": "stream",
     "text": [
      "In process_image2\n",
      "In process_image2\n",
      "In process_image2\n"
     ]
    },
    {
     "name": "stderr",
     "output_type": "stream",
     "text": [
      "\r",
      "t:   6%|▋         | 79/1260 [00:06<01:33, 12.62it/s, now=None]"
     ]
    },
    {
     "name": "stdout",
     "output_type": "stream",
     "text": [
      "In process_image2\n",
      "In process_image2\n",
      "In process_image2\n"
     ]
    },
    {
     "name": "stderr",
     "output_type": "stream",
     "text": [
      "t:   7%|▋         | 83/1260 [00:06<01:32, 12.75it/s, now=None]"
     ]
    },
    {
     "name": "stdout",
     "output_type": "stream",
     "text": [
      "In process_image2\n",
      "In process_image2\n",
      "In process_image2\n"
     ]
    },
    {
     "name": "stderr",
     "output_type": "stream",
     "text": [
      "\r",
      "t:   7%|▋         | 85/1260 [00:06<01:31, 12.83it/s, now=None]"
     ]
    },
    {
     "name": "stdout",
     "output_type": "stream",
     "text": [
      "In process_image2\n",
      "In process_image2\n",
      "In process_image2\n"
     ]
    },
    {
     "name": "stderr",
     "output_type": "stream",
     "text": [
      "t:   7%|▋         | 89/1260 [00:06<01:29, 13.01it/s, now=None]"
     ]
    },
    {
     "name": "stdout",
     "output_type": "stream",
     "text": [
      "In process_image2\n",
      "In process_image2\n",
      "In process_image2\n"
     ]
    },
    {
     "name": "stderr",
     "output_type": "stream",
     "text": [
      "\r",
      "t:   7%|▋         | 91/1260 [00:06<01:29, 13.10it/s, now=None]"
     ]
    },
    {
     "name": "stdout",
     "output_type": "stream",
     "text": [
      "In process_image2\n",
      "In process_image2\n",
      "In process_image2\n"
     ]
    },
    {
     "name": "stderr",
     "output_type": "stream",
     "text": [
      "t:   8%|▊         | 95/1260 [00:07<01:31, 12.74it/s, now=None]"
     ]
    },
    {
     "name": "stdout",
     "output_type": "stream",
     "text": [
      "In process_image2\n",
      "In process_image2\n",
      "In process_image2\n"
     ]
    },
    {
     "name": "stderr",
     "output_type": "stream",
     "text": [
      "\r",
      "t:   8%|▊         | 97/1260 [00:07<01:32, 12.60it/s, now=None]"
     ]
    },
    {
     "name": "stdout",
     "output_type": "stream",
     "text": [
      "In process_image2\n",
      "In process_image2\n",
      "In process_image2\n"
     ]
    },
    {
     "name": "stderr",
     "output_type": "stream",
     "text": [
      "t:   8%|▊         | 101/1260 [00:07<01:35, 12.17it/s, now=None]"
     ]
    },
    {
     "name": "stdout",
     "output_type": "stream",
     "text": [
      "In process_image2\n",
      "In process_image2\n",
      "In process_image2\n"
     ]
    },
    {
     "name": "stderr",
     "output_type": "stream",
     "text": [
      "\r",
      "t:   8%|▊         | 103/1260 [00:07<01:33, 12.39it/s, now=None]"
     ]
    },
    {
     "name": "stdout",
     "output_type": "stream",
     "text": [
      "In process_image2\n",
      "In process_image2\n",
      "In process_image2\n"
     ]
    },
    {
     "name": "stderr",
     "output_type": "stream",
     "text": [
      "t:   8%|▊         | 107/1260 [00:08<01:30, 12.74it/s, now=None]"
     ]
    },
    {
     "name": "stdout",
     "output_type": "stream",
     "text": [
      "In process_image2\n",
      "In process_image2\n",
      "In process_image2\n"
     ]
    },
    {
     "name": "stderr",
     "output_type": "stream",
     "text": [
      "\r",
      "t:   9%|▊         | 109/1260 [00:08<01:29, 12.84it/s, now=None]"
     ]
    },
    {
     "name": "stdout",
     "output_type": "stream",
     "text": [
      "In process_image2\n",
      "In process_image2\n",
      "In process_image2\n"
     ]
    },
    {
     "name": "stderr",
     "output_type": "stream",
     "text": [
      "t:   9%|▉         | 113/1260 [00:08<01:29, 12.85it/s, now=None]"
     ]
    },
    {
     "name": "stdout",
     "output_type": "stream",
     "text": [
      "In process_image2\n",
      "In process_image2\n",
      "In process_image2\n"
     ]
    },
    {
     "name": "stderr",
     "output_type": "stream",
     "text": [
      "\r",
      "t:   9%|▉         | 115/1260 [00:08<01:29, 12.80it/s, now=None]"
     ]
    },
    {
     "name": "stdout",
     "output_type": "stream",
     "text": [
      "In process_image2\n",
      "In process_image2\n",
      "In process_image2\n"
     ]
    },
    {
     "name": "stderr",
     "output_type": "stream",
     "text": [
      "t:   9%|▉         | 119/1260 [00:09<01:29, 12.74it/s, now=None]"
     ]
    },
    {
     "name": "stdout",
     "output_type": "stream",
     "text": [
      "In process_image2\n",
      "In process_image2\n",
      "In process_image2\n"
     ]
    },
    {
     "name": "stderr",
     "output_type": "stream",
     "text": [
      "\r",
      "t:  10%|▉         | 121/1260 [00:09<01:30, 12.65it/s, now=None]"
     ]
    },
    {
     "name": "stdout",
     "output_type": "stream",
     "text": [
      "In process_image2\n",
      "In process_image2\n",
      "In process_image2\n"
     ]
    },
    {
     "name": "stderr",
     "output_type": "stream",
     "text": [
      "t:  10%|▉         | 125/1260 [00:09<01:27, 12.91it/s, now=None]"
     ]
    },
    {
     "name": "stdout",
     "output_type": "stream",
     "text": [
      "In process_image2\n",
      "In process_image2\n",
      "In process_image2\n"
     ]
    },
    {
     "name": "stderr",
     "output_type": "stream",
     "text": [
      "\r",
      "t:  10%|█         | 127/1260 [00:09<01:27, 12.99it/s, now=None]"
     ]
    },
    {
     "name": "stdout",
     "output_type": "stream",
     "text": [
      "In process_image2\n",
      "In process_image2\n",
      "In process_image2\n"
     ]
    },
    {
     "name": "stderr",
     "output_type": "stream",
     "text": [
      "t:  10%|█         | 131/1260 [00:10<01:27, 12.96it/s, now=None]"
     ]
    },
    {
     "name": "stdout",
     "output_type": "stream",
     "text": [
      "In process_image2\n",
      "In process_image2\n",
      "In process_image2\n"
     ]
    },
    {
     "name": "stderr",
     "output_type": "stream",
     "text": [
      "\r",
      "t:  11%|█         | 133/1260 [00:10<01:25, 13.14it/s, now=None]"
     ]
    },
    {
     "name": "stdout",
     "output_type": "stream",
     "text": [
      "In process_image2\n",
      "In process_image2\n",
      "In process_image2\n"
     ]
    },
    {
     "name": "stderr",
     "output_type": "stream",
     "text": [
      "t:  11%|█         | 137/1260 [00:10<01:25, 13.16it/s, now=None]"
     ]
    },
    {
     "name": "stdout",
     "output_type": "stream",
     "text": [
      "In process_image2\n",
      "In process_image2\n",
      "In process_image2\n"
     ]
    },
    {
     "name": "stderr",
     "output_type": "stream",
     "text": [
      "\r",
      "t:  11%|█         | 139/1260 [00:10<01:25, 13.15it/s, now=None]"
     ]
    },
    {
     "name": "stdout",
     "output_type": "stream",
     "text": [
      "In process_image2\n",
      "In process_image2\n",
      "In process_image2\n"
     ]
    },
    {
     "name": "stderr",
     "output_type": "stream",
     "text": [
      "t:  11%|█▏        | 143/1260 [00:11<01:25, 13.09it/s, now=None]"
     ]
    },
    {
     "name": "stdout",
     "output_type": "stream",
     "text": [
      "In process_image2\n",
      "In process_image2\n",
      "In process_image2\n"
     ]
    },
    {
     "name": "stderr",
     "output_type": "stream",
     "text": [
      "\r",
      "t:  12%|█▏        | 145/1260 [00:11<01:24, 13.14it/s, now=None]"
     ]
    },
    {
     "name": "stdout",
     "output_type": "stream",
     "text": [
      "In process_image2\n",
      "In process_image2\n",
      "In process_image2\n"
     ]
    },
    {
     "name": "stderr",
     "output_type": "stream",
     "text": [
      "t:  12%|█▏        | 149/1260 [00:11<01:26, 12.90it/s, now=None]"
     ]
    },
    {
     "name": "stdout",
     "output_type": "stream",
     "text": [
      "In process_image2\n",
      "In process_image2\n",
      "In process_image2\n"
     ]
    },
    {
     "name": "stderr",
     "output_type": "stream",
     "text": [
      "\r",
      "t:  12%|█▏        | 151/1260 [00:11<01:28, 12.54it/s, now=None]"
     ]
    },
    {
     "name": "stdout",
     "output_type": "stream",
     "text": [
      "In process_image2\n",
      "In process_image2\n",
      "In process_image2\n"
     ]
    },
    {
     "name": "stderr",
     "output_type": "stream",
     "text": [
      "t:  12%|█▏        | 155/1260 [00:11<01:26, 12.72it/s, now=None]"
     ]
    },
    {
     "name": "stdout",
     "output_type": "stream",
     "text": [
      "In process_image2\n",
      "In process_image2\n",
      "In process_image2\n"
     ]
    },
    {
     "name": "stderr",
     "output_type": "stream",
     "text": [
      "\r",
      "t:  12%|█▏        | 157/1260 [00:12<01:25, 12.90it/s, now=None]"
     ]
    },
    {
     "name": "stdout",
     "output_type": "stream",
     "text": [
      "In process_image2\n",
      "In process_image2\n",
      "In process_image2\n"
     ]
    },
    {
     "name": "stderr",
     "output_type": "stream",
     "text": [
      "t:  13%|█▎        | 161/1260 [00:12<01:23, 13.11it/s, now=None]"
     ]
    },
    {
     "name": "stdout",
     "output_type": "stream",
     "text": [
      "In process_image2\n",
      "In process_image2\n",
      "In process_image2\n"
     ]
    },
    {
     "name": "stderr",
     "output_type": "stream",
     "text": [
      "\r",
      "t:  13%|█▎        | 163/1260 [00:12<01:24, 13.02it/s, now=None]"
     ]
    },
    {
     "name": "stdout",
     "output_type": "stream",
     "text": [
      "In process_image2\n",
      "In process_image2\n",
      "In process_image2\n"
     ]
    },
    {
     "name": "stderr",
     "output_type": "stream",
     "text": [
      "t:  13%|█▎        | 167/1260 [00:12<01:32, 11.83it/s, now=None]"
     ]
    },
    {
     "name": "stdout",
     "output_type": "stream",
     "text": [
      "In process_image2\n",
      "In process_image2\n",
      "In process_image2\n"
     ]
    },
    {
     "name": "stderr",
     "output_type": "stream",
     "text": [
      "\r",
      "t:  13%|█▎        | 169/1260 [00:13<01:29, 12.14it/s, now=None]"
     ]
    },
    {
     "name": "stdout",
     "output_type": "stream",
     "text": [
      "In process_image2\n",
      "In process_image2\n",
      "In process_image2\n"
     ]
    },
    {
     "name": "stderr",
     "output_type": "stream",
     "text": [
      "t:  14%|█▎        | 173/1260 [00:13<01:27, 12.37it/s, now=None]"
     ]
    },
    {
     "name": "stdout",
     "output_type": "stream",
     "text": [
      "In process_image2\n",
      "In process_image2\n",
      "In process_image2\n"
     ]
    },
    {
     "name": "stderr",
     "output_type": "stream",
     "text": [
      "\r",
      "t:  14%|█▍        | 175/1260 [00:13<01:30, 11.99it/s, now=None]"
     ]
    },
    {
     "name": "stdout",
     "output_type": "stream",
     "text": [
      "In process_image2\n",
      "In process_image2\n",
      "In process_image2\n"
     ]
    },
    {
     "name": "stderr",
     "output_type": "stream",
     "text": [
      "t:  14%|█▍        | 179/1260 [00:13<01:28, 12.19it/s, now=None]"
     ]
    },
    {
     "name": "stdout",
     "output_type": "stream",
     "text": [
      "In process_image2\n",
      "In process_image2\n",
      "In process_image2\n"
     ]
    },
    {
     "name": "stderr",
     "output_type": "stream",
     "text": [
      "\r",
      "t:  14%|█▍        | 181/1260 [00:14<01:27, 12.29it/s, now=None]"
     ]
    },
    {
     "name": "stdout",
     "output_type": "stream",
     "text": [
      "In process_image2\n",
      "In process_image2\n",
      "In process_image2\n"
     ]
    },
    {
     "name": "stderr",
     "output_type": "stream",
     "text": [
      "t:  15%|█▍        | 185/1260 [00:14<01:25, 12.50it/s, now=None]"
     ]
    },
    {
     "name": "stdout",
     "output_type": "stream",
     "text": [
      "In process_image2\n",
      "In process_image2\n",
      "In process_image2\n"
     ]
    },
    {
     "name": "stderr",
     "output_type": "stream",
     "text": [
      "\r",
      "t:  15%|█▍        | 187/1260 [00:14<01:25, 12.51it/s, now=None]"
     ]
    },
    {
     "name": "stdout",
     "output_type": "stream",
     "text": [
      "In process_image2\n",
      "In process_image2\n",
      "In process_image2\n"
     ]
    },
    {
     "name": "stderr",
     "output_type": "stream",
     "text": [
      "t:  15%|█▌        | 191/1260 [00:14<01:25, 12.53it/s, now=None]"
     ]
    },
    {
     "name": "stdout",
     "output_type": "stream",
     "text": [
      "In process_image2\n",
      "In process_image2\n",
      "In process_image2\n"
     ]
    },
    {
     "name": "stderr",
     "output_type": "stream",
     "text": [
      "\r",
      "t:  15%|█▌        | 193/1260 [00:15<01:23, 12.74it/s, now=None]"
     ]
    },
    {
     "name": "stdout",
     "output_type": "stream",
     "text": [
      "In process_image2\n",
      "In process_image2\n",
      "In process_image2\n"
     ]
    },
    {
     "name": "stderr",
     "output_type": "stream",
     "text": [
      "t:  16%|█▌        | 197/1260 [00:15<01:26, 12.29it/s, now=None]"
     ]
    },
    {
     "name": "stdout",
     "output_type": "stream",
     "text": [
      "In process_image2\n",
      "In process_image2\n",
      "In process_image2\n"
     ]
    },
    {
     "name": "stderr",
     "output_type": "stream",
     "text": [
      "\r",
      "t:  16%|█▌        | 199/1260 [00:15<01:25, 12.35it/s, now=None]"
     ]
    },
    {
     "name": "stdout",
     "output_type": "stream",
     "text": [
      "In process_image2\n",
      "In process_image2\n",
      "In process_image2\n"
     ]
    },
    {
     "name": "stderr",
     "output_type": "stream",
     "text": [
      "t:  16%|█▌        | 203/1260 [00:15<01:27, 12.03it/s, now=None]"
     ]
    },
    {
     "name": "stdout",
     "output_type": "stream",
     "text": [
      "In process_image2\n",
      "In process_image2\n",
      "In process_image2\n"
     ]
    },
    {
     "name": "stderr",
     "output_type": "stream",
     "text": [
      "\r",
      "t:  16%|█▋        | 205/1260 [00:16<01:25, 12.31it/s, now=None]"
     ]
    },
    {
     "name": "stdout",
     "output_type": "stream",
     "text": [
      "In process_image2\n",
      "In process_image2\n",
      "In process_image2\n"
     ]
    },
    {
     "name": "stderr",
     "output_type": "stream",
     "text": [
      "t:  17%|█▋        | 209/1260 [00:16<01:22, 12.71it/s, now=None]"
     ]
    },
    {
     "name": "stdout",
     "output_type": "stream",
     "text": [
      "In process_image2\n",
      "In process_image2\n",
      "In process_image2\n"
     ]
    },
    {
     "name": "stderr",
     "output_type": "stream",
     "text": [
      "\r",
      "t:  17%|█▋        | 211/1260 [00:16<01:22, 12.71it/s, now=None]"
     ]
    },
    {
     "name": "stdout",
     "output_type": "stream",
     "text": [
      "In process_image2\n",
      "In process_image2\n",
      "In process_image2\n"
     ]
    },
    {
     "name": "stderr",
     "output_type": "stream",
     "text": [
      "t:  17%|█▋        | 215/1260 [00:16<01:25, 12.19it/s, now=None]"
     ]
    },
    {
     "name": "stdout",
     "output_type": "stream",
     "text": [
      "In process_image2\n",
      "In process_image2\n",
      "In process_image2\n"
     ]
    },
    {
     "name": "stderr",
     "output_type": "stream",
     "text": [
      "\r",
      "t:  17%|█▋        | 217/1260 [00:16<01:24, 12.41it/s, now=None]"
     ]
    },
    {
     "name": "stdout",
     "output_type": "stream",
     "text": [
      "In process_image2\n",
      "In process_image2\n",
      "In process_image2\n"
     ]
    },
    {
     "name": "stderr",
     "output_type": "stream",
     "text": [
      "t:  18%|█▊        | 221/1260 [00:17<01:21, 12.68it/s, now=None]"
     ]
    },
    {
     "name": "stdout",
     "output_type": "stream",
     "text": [
      "In process_image2\n",
      "In process_image2\n",
      "In process_image2\n"
     ]
    },
    {
     "name": "stderr",
     "output_type": "stream",
     "text": [
      "\r",
      "t:  18%|█▊        | 223/1260 [00:17<01:21, 12.78it/s, now=None]"
     ]
    },
    {
     "name": "stdout",
     "output_type": "stream",
     "text": [
      "In process_image2\n",
      "In process_image2\n",
      "In process_image2\n"
     ]
    },
    {
     "name": "stderr",
     "output_type": "stream",
     "text": [
      "t:  18%|█▊        | 227/1260 [00:17<01:20, 12.78it/s, now=None]"
     ]
    },
    {
     "name": "stdout",
     "output_type": "stream",
     "text": [
      "In process_image2\n",
      "In process_image2\n",
      "In process_image2\n"
     ]
    },
    {
     "name": "stderr",
     "output_type": "stream",
     "text": [
      "\r",
      "t:  18%|█▊        | 229/1260 [00:17<01:23, 12.31it/s, now=None]"
     ]
    },
    {
     "name": "stdout",
     "output_type": "stream",
     "text": [
      "In process_image2\n",
      "In process_image2\n",
      "In process_image2\n"
     ]
    },
    {
     "name": "stderr",
     "output_type": "stream",
     "text": [
      "t:  18%|█▊        | 233/1260 [00:18<01:23, 12.30it/s, now=None]"
     ]
    },
    {
     "name": "stdout",
     "output_type": "stream",
     "text": [
      "In process_image2\n",
      "In process_image2\n",
      "In process_image2\n"
     ]
    },
    {
     "name": "stderr",
     "output_type": "stream",
     "text": [
      "\r",
      "t:  19%|█▊        | 235/1260 [00:18<01:23, 12.24it/s, now=None]"
     ]
    },
    {
     "name": "stdout",
     "output_type": "stream",
     "text": [
      "In process_image2\n",
      "In process_image2\n",
      "In process_image2\n"
     ]
    },
    {
     "name": "stderr",
     "output_type": "stream",
     "text": [
      "t:  19%|█▉        | 239/1260 [00:18<01:22, 12.34it/s, now=None]"
     ]
    },
    {
     "name": "stdout",
     "output_type": "stream",
     "text": [
      "In process_image2\n",
      "In process_image2\n",
      "In process_image2\n"
     ]
    },
    {
     "name": "stderr",
     "output_type": "stream",
     "text": [
      "\r",
      "t:  19%|█▉        | 241/1260 [00:18<01:22, 12.35it/s, now=None]"
     ]
    },
    {
     "name": "stdout",
     "output_type": "stream",
     "text": [
      "In process_image2\n",
      "In process_image2\n",
      "In process_image2\n"
     ]
    },
    {
     "name": "stderr",
     "output_type": "stream",
     "text": [
      "t:  19%|█▉        | 245/1260 [00:19<01:21, 12.39it/s, now=None]"
     ]
    },
    {
     "name": "stdout",
     "output_type": "stream",
     "text": [
      "In process_image2\n",
      "In process_image2\n",
      "In process_image2\n"
     ]
    },
    {
     "name": "stderr",
     "output_type": "stream",
     "text": [
      "\r",
      "t:  20%|█▉        | 247/1260 [00:19<01:20, 12.61it/s, now=None]"
     ]
    },
    {
     "name": "stdout",
     "output_type": "stream",
     "text": [
      "In process_image2\n",
      "In process_image2\n",
      "In process_image2\n"
     ]
    },
    {
     "name": "stderr",
     "output_type": "stream",
     "text": [
      "t:  20%|█▉        | 251/1260 [00:19<01:21, 12.38it/s, now=None]"
     ]
    },
    {
     "name": "stdout",
     "output_type": "stream",
     "text": [
      "In process_image2\n",
      "In process_image2\n",
      "In process_image2\n"
     ]
    },
    {
     "name": "stderr",
     "output_type": "stream",
     "text": [
      "\r",
      "t:  20%|██        | 253/1260 [00:19<01:20, 12.55it/s, now=None]"
     ]
    },
    {
     "name": "stdout",
     "output_type": "stream",
     "text": [
      "In process_image2\n",
      "In process_image2\n",
      "In process_image2\n"
     ]
    },
    {
     "name": "stderr",
     "output_type": "stream",
     "text": [
      "t:  20%|██        | 257/1260 [00:20<01:18, 12.82it/s, now=None]"
     ]
    },
    {
     "name": "stdout",
     "output_type": "stream",
     "text": [
      "In process_image2\n",
      "In process_image2\n",
      "In process_image2\n"
     ]
    },
    {
     "name": "stderr",
     "output_type": "stream",
     "text": [
      "\r",
      "t:  21%|██        | 259/1260 [00:20<01:19, 12.54it/s, now=None]"
     ]
    },
    {
     "name": "stdout",
     "output_type": "stream",
     "text": [
      "In process_image2\n",
      "In process_image2\n",
      "In process_image2\n"
     ]
    },
    {
     "name": "stderr",
     "output_type": "stream",
     "text": [
      "t:  21%|██        | 263/1260 [00:20<01:23, 11.96it/s, now=None]"
     ]
    },
    {
     "name": "stdout",
     "output_type": "stream",
     "text": [
      "In process_image2\n",
      "In process_image2\n",
      "In process_image2\n"
     ]
    },
    {
     "name": "stderr",
     "output_type": "stream",
     "text": [
      "\r",
      "t:  21%|██        | 265/1260 [00:20<01:21, 12.16it/s, now=None]"
     ]
    },
    {
     "name": "stdout",
     "output_type": "stream",
     "text": [
      "In process_image2\n",
      "In process_image2\n",
      "In process_image2\n"
     ]
    },
    {
     "name": "stderr",
     "output_type": "stream",
     "text": [
      "t:  21%|██▏       | 269/1260 [00:21<01:23, 11.91it/s, now=None]"
     ]
    },
    {
     "name": "stdout",
     "output_type": "stream",
     "text": [
      "In process_image2\n",
      "In process_image2\n",
      "In process_image2\n"
     ]
    },
    {
     "name": "stderr",
     "output_type": "stream",
     "text": [
      "\r",
      "t:  22%|██▏       | 271/1260 [00:21<01:24, 11.65it/s, now=None]"
     ]
    },
    {
     "name": "stdout",
     "output_type": "stream",
     "text": [
      "In process_image2\n",
      "In process_image2\n",
      "In process_image2\n"
     ]
    },
    {
     "name": "stderr",
     "output_type": "stream",
     "text": [
      "t:  22%|██▏       | 275/1260 [00:21<01:21, 12.14it/s, now=None]"
     ]
    },
    {
     "name": "stdout",
     "output_type": "stream",
     "text": [
      "In process_image2\n",
      "In process_image2\n",
      "In process_image2\n"
     ]
    },
    {
     "name": "stderr",
     "output_type": "stream",
     "text": [
      "\r",
      "t:  22%|██▏       | 277/1260 [00:21<01:19, 12.33it/s, now=None]"
     ]
    },
    {
     "name": "stdout",
     "output_type": "stream",
     "text": [
      "In process_image2\n",
      "In process_image2\n",
      "In process_image2\n"
     ]
    },
    {
     "name": "stderr",
     "output_type": "stream",
     "text": [
      "t:  22%|██▏       | 281/1260 [00:22<01:16, 12.75it/s, now=None]"
     ]
    },
    {
     "name": "stdout",
     "output_type": "stream",
     "text": [
      "In process_image2\n",
      "In process_image2\n",
      "In process_image2\n"
     ]
    },
    {
     "name": "stderr",
     "output_type": "stream",
     "text": [
      "\r",
      "t:  22%|██▏       | 283/1260 [00:22<01:16, 12.78it/s, now=None]"
     ]
    },
    {
     "name": "stdout",
     "output_type": "stream",
     "text": [
      "In process_image2\n",
      "In process_image2\n",
      "In process_image2\n"
     ]
    },
    {
     "name": "stderr",
     "output_type": "stream",
     "text": [
      "t:  23%|██▎       | 287/1260 [00:22<01:15, 12.95it/s, now=None]"
     ]
    },
    {
     "name": "stdout",
     "output_type": "stream",
     "text": [
      "In process_image2\n",
      "In process_image2\n",
      "In process_image2\n"
     ]
    },
    {
     "name": "stderr",
     "output_type": "stream",
     "text": [
      "\r",
      "t:  23%|██▎       | 289/1260 [00:22<01:22, 11.80it/s, now=None]"
     ]
    },
    {
     "name": "stdout",
     "output_type": "stream",
     "text": [
      "In process_image2\n",
      "In process_image2\n"
     ]
    },
    {
     "name": "stderr",
     "output_type": "stream",
     "text": [
      "\r",
      "t:  23%|██▎       | 291/1260 [00:22<01:22, 11.72it/s, now=None]"
     ]
    },
    {
     "name": "stdout",
     "output_type": "stream",
     "text": [
      "In process_image2\n",
      "In process_image2\n",
      "In process_image2\n"
     ]
    },
    {
     "name": "stderr",
     "output_type": "stream",
     "text": [
      "t:  23%|██▎       | 295/1260 [00:23<01:20, 12.06it/s, now=None]"
     ]
    },
    {
     "name": "stdout",
     "output_type": "stream",
     "text": [
      "In process_image2\n",
      "In process_image2\n",
      "In process_image2\n"
     ]
    },
    {
     "name": "stderr",
     "output_type": "stream",
     "text": [
      "\r",
      "t:  24%|██▎       | 297/1260 [00:23<01:20, 12.04it/s, now=None]"
     ]
    },
    {
     "name": "stdout",
     "output_type": "stream",
     "text": [
      "In process_image2\n",
      "In process_image2\n",
      "In process_image2\n"
     ]
    },
    {
     "name": "stderr",
     "output_type": "stream",
     "text": [
      "t:  24%|██▍       | 301/1260 [00:23<01:22, 11.63it/s, now=None]"
     ]
    },
    {
     "name": "stdout",
     "output_type": "stream",
     "text": [
      "In process_image2\n",
      "In process_image2\n",
      "In process_image2\n"
     ]
    },
    {
     "name": "stderr",
     "output_type": "stream",
     "text": [
      "\r",
      "t:  24%|██▍       | 303/1260 [00:23<01:19, 11.97it/s, now=None]"
     ]
    },
    {
     "name": "stdout",
     "output_type": "stream",
     "text": [
      "In process_image2\n",
      "In process_image2\n",
      "In process_image2\n"
     ]
    },
    {
     "name": "stderr",
     "output_type": "stream",
     "text": [
      "t:  24%|██▍       | 307/1260 [00:24<01:15, 12.55it/s, now=None]"
     ]
    },
    {
     "name": "stdout",
     "output_type": "stream",
     "text": [
      "In process_image2\n",
      "In process_image2\n",
      "In process_image2\n"
     ]
    },
    {
     "name": "stderr",
     "output_type": "stream",
     "text": [
      "\r",
      "t:  25%|██▍       | 309/1260 [00:24<01:15, 12.55it/s, now=None]"
     ]
    },
    {
     "name": "stdout",
     "output_type": "stream",
     "text": [
      "In process_image2\n",
      "In process_image2\n",
      "In process_image2\n"
     ]
    },
    {
     "name": "stderr",
     "output_type": "stream",
     "text": [
      "t:  25%|██▍       | 313/1260 [00:24<01:17, 12.21it/s, now=None]"
     ]
    },
    {
     "name": "stdout",
     "output_type": "stream",
     "text": [
      "In process_image2\n",
      "In process_image2\n",
      "In process_image2\n"
     ]
    },
    {
     "name": "stderr",
     "output_type": "stream",
     "text": [
      "\r",
      "t:  25%|██▌       | 315/1260 [00:24<01:16, 12.42it/s, now=None]"
     ]
    },
    {
     "name": "stdout",
     "output_type": "stream",
     "text": [
      "In process_image2\n",
      "In process_image2\n",
      "In process_image2\n"
     ]
    },
    {
     "name": "stderr",
     "output_type": "stream",
     "text": [
      "t:  25%|██▌       | 319/1260 [00:25<01:17, 12.22it/s, now=None]"
     ]
    },
    {
     "name": "stdout",
     "output_type": "stream",
     "text": [
      "In process_image2\n",
      "In process_image2\n",
      "In process_image2\n"
     ]
    },
    {
     "name": "stderr",
     "output_type": "stream",
     "text": [
      "\r",
      "t:  25%|██▌       | 321/1260 [00:25<01:16, 12.25it/s, now=None]"
     ]
    },
    {
     "name": "stdout",
     "output_type": "stream",
     "text": [
      "In process_image2\n",
      "In process_image2\n",
      "In process_image2\n"
     ]
    },
    {
     "name": "stderr",
     "output_type": "stream",
     "text": [
      "t:  26%|██▌       | 325/1260 [00:25<01:15, 12.35it/s, now=None]"
     ]
    },
    {
     "name": "stdout",
     "output_type": "stream",
     "text": [
      "In process_image2\n",
      "In process_image2\n",
      "In process_image2\n"
     ]
    },
    {
     "name": "stderr",
     "output_type": "stream",
     "text": [
      "\r",
      "t:  26%|██▌       | 327/1260 [00:25<01:14, 12.45it/s, now=None]"
     ]
    },
    {
     "name": "stdout",
     "output_type": "stream",
     "text": [
      "In process_image2\n",
      "In process_image2\n",
      "In process_image2\n"
     ]
    },
    {
     "name": "stderr",
     "output_type": "stream",
     "text": [
      "t:  26%|██▋       | 331/1260 [00:26<01:15, 12.25it/s, now=None]"
     ]
    },
    {
     "name": "stdout",
     "output_type": "stream",
     "text": [
      "In process_image2\n",
      "In process_image2\n",
      "In process_image2\n"
     ]
    },
    {
     "name": "stderr",
     "output_type": "stream",
     "text": [
      "\r",
      "t:  26%|██▋       | 333/1260 [00:26<01:16, 12.18it/s, now=None]"
     ]
    },
    {
     "name": "stdout",
     "output_type": "stream",
     "text": [
      "In process_image2\n",
      "In process_image2\n",
      "In process_image2\n"
     ]
    },
    {
     "name": "stderr",
     "output_type": "stream",
     "text": [
      "t:  27%|██▋       | 337/1260 [00:26<01:13, 12.57it/s, now=None]"
     ]
    },
    {
     "name": "stdout",
     "output_type": "stream",
     "text": [
      "In process_image2\n",
      "In process_image2\n",
      "In process_image2\n"
     ]
    },
    {
     "name": "stderr",
     "output_type": "stream",
     "text": [
      "\r",
      "t:  27%|██▋       | 339/1260 [00:26<01:13, 12.59it/s, now=None]"
     ]
    },
    {
     "name": "stdout",
     "output_type": "stream",
     "text": [
      "In process_image2\n",
      "In process_image2\n",
      "In process_image2\n"
     ]
    },
    {
     "name": "stderr",
     "output_type": "stream",
     "text": [
      "t:  27%|██▋       | 343/1260 [00:27<01:15, 12.22it/s, now=None]"
     ]
    },
    {
     "name": "stdout",
     "output_type": "stream",
     "text": [
      "In process_image2\n",
      "In process_image2\n",
      "In process_image2\n"
     ]
    },
    {
     "name": "stderr",
     "output_type": "stream",
     "text": [
      "\r",
      "t:  27%|██▋       | 345/1260 [00:27<01:13, 12.51it/s, now=None]"
     ]
    },
    {
     "name": "stdout",
     "output_type": "stream",
     "text": [
      "In process_image2\n",
      "In process_image2\n",
      "In process_image2\n"
     ]
    },
    {
     "name": "stderr",
     "output_type": "stream",
     "text": [
      "t:  28%|██▊       | 349/1260 [00:27<01:11, 12.79it/s, now=None]"
     ]
    },
    {
     "name": "stdout",
     "output_type": "stream",
     "text": [
      "In process_image2\n",
      "In process_image2\n",
      "In process_image2\n"
     ]
    },
    {
     "name": "stderr",
     "output_type": "stream",
     "text": [
      "\r",
      "t:  28%|██▊       | 351/1260 [00:27<01:10, 12.90it/s, now=None]"
     ]
    },
    {
     "name": "stdout",
     "output_type": "stream",
     "text": [
      "In process_image2\n",
      "In process_image2\n",
      "In process_image2\n"
     ]
    },
    {
     "name": "stderr",
     "output_type": "stream",
     "text": [
      "t:  28%|██▊       | 355/1260 [00:28<01:10, 12.84it/s, now=None]"
     ]
    },
    {
     "name": "stdout",
     "output_type": "stream",
     "text": [
      "In process_image2\n",
      "In process_image2\n",
      "In process_image2\n"
     ]
    },
    {
     "name": "stderr",
     "output_type": "stream",
     "text": [
      "\r",
      "t:  28%|██▊       | 357/1260 [00:28<01:09, 12.99it/s, now=None]"
     ]
    },
    {
     "name": "stdout",
     "output_type": "stream",
     "text": [
      "In process_image2\n",
      "In process_image2\n",
      "In process_image2\n"
     ]
    },
    {
     "name": "stderr",
     "output_type": "stream",
     "text": [
      "t:  29%|██▊       | 361/1260 [00:28<01:08, 13.21it/s, now=None]"
     ]
    },
    {
     "name": "stdout",
     "output_type": "stream",
     "text": [
      "In process_image2\n",
      "In process_image2\n",
      "In process_image2\n"
     ]
    },
    {
     "name": "stderr",
     "output_type": "stream",
     "text": [
      "\r",
      "t:  29%|██▉       | 363/1260 [00:28<01:07, 13.32it/s, now=None]"
     ]
    },
    {
     "name": "stdout",
     "output_type": "stream",
     "text": [
      "In process_image2\n",
      "In process_image2\n",
      "In process_image2\n"
     ]
    },
    {
     "name": "stderr",
     "output_type": "stream",
     "text": [
      "t:  29%|██▉       | 367/1260 [00:29<01:08, 12.95it/s, now=None]"
     ]
    },
    {
     "name": "stdout",
     "output_type": "stream",
     "text": [
      "In process_image2\n",
      "In process_image2\n",
      "In process_image2\n"
     ]
    },
    {
     "name": "stderr",
     "output_type": "stream",
     "text": [
      "\r",
      "t:  29%|██▉       | 369/1260 [00:29<01:08, 12.92it/s, now=None]"
     ]
    },
    {
     "name": "stdout",
     "output_type": "stream",
     "text": [
      "In process_image2\n",
      "In process_image2\n",
      "In process_image2\n"
     ]
    },
    {
     "name": "stderr",
     "output_type": "stream",
     "text": [
      "t:  30%|██▉       | 373/1260 [00:29<01:08, 12.93it/s, now=None]"
     ]
    },
    {
     "name": "stdout",
     "output_type": "stream",
     "text": [
      "In process_image2\n",
      "In process_image2\n",
      "In process_image2\n"
     ]
    },
    {
     "name": "stderr",
     "output_type": "stream",
     "text": [
      "\r",
      "t:  30%|██▉       | 375/1260 [00:29<01:09, 12.77it/s, now=None]"
     ]
    },
    {
     "name": "stdout",
     "output_type": "stream",
     "text": [
      "In process_image2\n",
      "In process_image2\n",
      "In process_image2\n"
     ]
    },
    {
     "name": "stderr",
     "output_type": "stream",
     "text": [
      "t:  30%|███       | 379/1260 [00:30<01:11, 12.32it/s, now=None]"
     ]
    },
    {
     "name": "stdout",
     "output_type": "stream",
     "text": [
      "In process_image2\n",
      "In process_image2\n",
      "In process_image2\n"
     ]
    },
    {
     "name": "stderr",
     "output_type": "stream",
     "text": [
      "\r",
      "t:  30%|███       | 381/1260 [00:30<01:13, 11.89it/s, now=None]"
     ]
    },
    {
     "name": "stdout",
     "output_type": "stream",
     "text": [
      "In process_image2\n",
      "In process_image2\n",
      "In process_image2\n"
     ]
    },
    {
     "name": "stderr",
     "output_type": "stream",
     "text": [
      "t:  31%|███       | 385/1260 [00:30<01:12, 12.02it/s, now=None]"
     ]
    },
    {
     "name": "stdout",
     "output_type": "stream",
     "text": [
      "In process_image2\n",
      "In process_image2\n",
      "In process_image2\n"
     ]
    },
    {
     "name": "stderr",
     "output_type": "stream",
     "text": [
      "\r",
      "t:  31%|███       | 387/1260 [00:30<01:10, 12.34it/s, now=None]"
     ]
    },
    {
     "name": "stdout",
     "output_type": "stream",
     "text": [
      "In process_image2\n",
      "In process_image2\n",
      "In process_image2\n"
     ]
    },
    {
     "name": "stderr",
     "output_type": "stream",
     "text": [
      "t:  31%|███       | 391/1260 [00:30<01:08, 12.75it/s, now=None]"
     ]
    },
    {
     "name": "stdout",
     "output_type": "stream",
     "text": [
      "In process_image2\n",
      "In process_image2\n",
      "In process_image2\n"
     ]
    },
    {
     "name": "stderr",
     "output_type": "stream",
     "text": [
      "\r",
      "t:  31%|███       | 393/1260 [00:31<01:07, 12.92it/s, now=None]"
     ]
    },
    {
     "name": "stdout",
     "output_type": "stream",
     "text": [
      "In process_image2\n",
      "In process_image2\n",
      "In process_image2\n"
     ]
    },
    {
     "name": "stderr",
     "output_type": "stream",
     "text": [
      "t:  32%|███▏      | 397/1260 [00:31<01:06, 12.92it/s, now=None]"
     ]
    },
    {
     "name": "stdout",
     "output_type": "stream",
     "text": [
      "In process_image2\n",
      "In process_image2\n",
      "In process_image2\n"
     ]
    },
    {
     "name": "stderr",
     "output_type": "stream",
     "text": [
      "\r",
      "t:  32%|███▏      | 399/1260 [00:31<01:06, 13.00it/s, now=None]"
     ]
    },
    {
     "name": "stdout",
     "output_type": "stream",
     "text": [
      "In process_image2\n",
      "In process_image2\n",
      "In process_image2\n"
     ]
    },
    {
     "name": "stderr",
     "output_type": "stream",
     "text": [
      "t:  32%|███▏      | 403/1260 [00:31<01:05, 13.00it/s, now=None]"
     ]
    },
    {
     "name": "stdout",
     "output_type": "stream",
     "text": [
      "In process_image2\n",
      "In process_image2\n",
      "In process_image2\n"
     ]
    },
    {
     "name": "stderr",
     "output_type": "stream",
     "text": [
      "\r",
      "t:  32%|███▏      | 405/1260 [00:32<01:05, 12.97it/s, now=None]"
     ]
    },
    {
     "name": "stdout",
     "output_type": "stream",
     "text": [
      "In process_image2\n",
      "In process_image2\n",
      "In process_image2\n"
     ]
    },
    {
     "name": "stderr",
     "output_type": "stream",
     "text": [
      "t:  32%|███▏      | 409/1260 [00:32<01:04, 13.15it/s, now=None]"
     ]
    },
    {
     "name": "stdout",
     "output_type": "stream",
     "text": [
      "In process_image2\n",
      "In process_image2\n",
      "In process_image2\n"
     ]
    },
    {
     "name": "stderr",
     "output_type": "stream",
     "text": [
      "\r",
      "t:  33%|███▎      | 411/1260 [00:32<01:05, 12.87it/s, now=None]"
     ]
    },
    {
     "name": "stdout",
     "output_type": "stream",
     "text": [
      "In process_image2\n",
      "In process_image2\n",
      "In process_image2\n"
     ]
    },
    {
     "name": "stderr",
     "output_type": "stream",
     "text": [
      "t:  33%|███▎      | 415/1260 [00:32<01:05, 12.91it/s, now=None]"
     ]
    },
    {
     "name": "stdout",
     "output_type": "stream",
     "text": [
      "In process_image2\n",
      "In process_image2\n",
      "In process_image2\n"
     ]
    },
    {
     "name": "stderr",
     "output_type": "stream",
     "text": [
      "\r",
      "t:  33%|███▎      | 417/1260 [00:32<01:05, 12.82it/s, now=None]"
     ]
    },
    {
     "name": "stdout",
     "output_type": "stream",
     "text": [
      "In process_image2\n",
      "In process_image2\n",
      "In process_image2\n"
     ]
    },
    {
     "name": "stderr",
     "output_type": "stream",
     "text": [
      "t:  33%|███▎      | 421/1260 [00:33<01:06, 12.56it/s, now=None]"
     ]
    },
    {
     "name": "stdout",
     "output_type": "stream",
     "text": [
      "In process_image2\n",
      "In process_image2\n",
      "In process_image2\n"
     ]
    },
    {
     "name": "stderr",
     "output_type": "stream",
     "text": [
      "\r",
      "t:  34%|███▎      | 423/1260 [00:33<01:05, 12.85it/s, now=None]"
     ]
    },
    {
     "name": "stdout",
     "output_type": "stream",
     "text": [
      "In process_image2\n",
      "In process_image2\n",
      "In process_image2\n"
     ]
    },
    {
     "name": "stderr",
     "output_type": "stream",
     "text": [
      "t:  34%|███▍      | 427/1260 [00:33<01:03, 13.03it/s, now=None]"
     ]
    },
    {
     "name": "stdout",
     "output_type": "stream",
     "text": [
      "In process_image2\n",
      "In process_image2\n",
      "In process_image2\n"
     ]
    },
    {
     "name": "stderr",
     "output_type": "stream",
     "text": [
      "\r",
      "t:  34%|███▍      | 429/1260 [00:33<01:05, 12.74it/s, now=None]"
     ]
    },
    {
     "name": "stdout",
     "output_type": "stream",
     "text": [
      "In process_image2\n",
      "In process_image2\n",
      "In process_image2\n"
     ]
    },
    {
     "name": "stderr",
     "output_type": "stream",
     "text": [
      "t:  34%|███▍      | 433/1260 [00:34<01:05, 12.64it/s, now=None]"
     ]
    },
    {
     "name": "stdout",
     "output_type": "stream",
     "text": [
      "In process_image2\n",
      "In process_image2\n",
      "In process_image2\n"
     ]
    },
    {
     "name": "stderr",
     "output_type": "stream",
     "text": [
      "\r",
      "t:  35%|███▍      | 435/1260 [00:34<01:03, 12.90it/s, now=None]"
     ]
    },
    {
     "name": "stdout",
     "output_type": "stream",
     "text": [
      "In process_image2\n",
      "In process_image2\n",
      "In process_image2\n"
     ]
    },
    {
     "name": "stderr",
     "output_type": "stream",
     "text": [
      "t:  35%|███▍      | 439/1260 [00:34<01:07, 12.21it/s, now=None]"
     ]
    },
    {
     "name": "stdout",
     "output_type": "stream",
     "text": [
      "In process_image2\n",
      "In process_image2\n",
      "In process_image2\n"
     ]
    },
    {
     "name": "stderr",
     "output_type": "stream",
     "text": [
      "\r",
      "t:  35%|███▌      | 441/1260 [00:34<01:10, 11.57it/s, now=None]"
     ]
    },
    {
     "name": "stdout",
     "output_type": "stream",
     "text": [
      "In process_image2\n",
      "In process_image2\n",
      "In process_image2\n"
     ]
    },
    {
     "name": "stderr",
     "output_type": "stream",
     "text": [
      "t:  35%|███▌      | 445/1260 [00:35<01:09, 11.68it/s, now=None]"
     ]
    },
    {
     "name": "stdout",
     "output_type": "stream",
     "text": [
      "In process_image2\n",
      "In process_image2\n",
      "In process_image2\n"
     ]
    },
    {
     "name": "stderr",
     "output_type": "stream",
     "text": [
      "\r",
      "t:  35%|███▌      | 447/1260 [00:35<01:10, 11.52it/s, now=None]"
     ]
    },
    {
     "name": "stdout",
     "output_type": "stream",
     "text": [
      "In process_image2\n",
      "In process_image2\n",
      "In process_image2\n"
     ]
    },
    {
     "name": "stderr",
     "output_type": "stream",
     "text": [
      "t:  36%|███▌      | 451/1260 [00:35<01:10, 11.54it/s, now=None]"
     ]
    },
    {
     "name": "stdout",
     "output_type": "stream",
     "text": [
      "In process_image2\n",
      "In process_image2\n",
      "In process_image2\n"
     ]
    },
    {
     "name": "stderr",
     "output_type": "stream",
     "text": [
      "\r",
      "t:  36%|███▌      | 453/1260 [00:35<01:07, 11.91it/s, now=None]"
     ]
    },
    {
     "name": "stdout",
     "output_type": "stream",
     "text": [
      "In process_image2\n",
      "In process_image2\n",
      "In process_image2\n"
     ]
    },
    {
     "name": "stderr",
     "output_type": "stream",
     "text": [
      "t:  36%|███▋      | 457/1260 [00:36<01:04, 12.38it/s, now=None]"
     ]
    },
    {
     "name": "stdout",
     "output_type": "stream",
     "text": [
      "In process_image2\n",
      "In process_image2\n",
      "In process_image2\n"
     ]
    },
    {
     "name": "stderr",
     "output_type": "stream",
     "text": [
      "\r",
      "t:  36%|███▋      | 459/1260 [00:36<01:03, 12.64it/s, now=None]"
     ]
    },
    {
     "name": "stdout",
     "output_type": "stream",
     "text": [
      "In process_image2\n",
      "In process_image2\n",
      "In process_image2\n"
     ]
    },
    {
     "name": "stderr",
     "output_type": "stream",
     "text": [
      "t:  37%|███▋      | 463/1260 [00:36<01:04, 12.45it/s, now=None]"
     ]
    },
    {
     "name": "stdout",
     "output_type": "stream",
     "text": [
      "In process_image2\n",
      "In process_image2\n",
      "In process_image2\n"
     ]
    },
    {
     "name": "stderr",
     "output_type": "stream",
     "text": [
      "\r",
      "t:  37%|███▋      | 465/1260 [00:36<01:04, 12.35it/s, now=None]"
     ]
    },
    {
     "name": "stdout",
     "output_type": "stream",
     "text": [
      "In process_image2\n",
      "In process_image2\n",
      "In process_image2\n"
     ]
    },
    {
     "name": "stderr",
     "output_type": "stream",
     "text": [
      "t:  37%|███▋      | 469/1260 [00:37<01:06, 11.98it/s, now=None]"
     ]
    },
    {
     "name": "stdout",
     "output_type": "stream",
     "text": [
      "In process_image2\n",
      "In process_image2\n",
      "In process_image2\n"
     ]
    },
    {
     "name": "stderr",
     "output_type": "stream",
     "text": [
      "\r",
      "t:  37%|███▋      | 471/1260 [00:37<01:05, 12.01it/s, now=None]"
     ]
    },
    {
     "name": "stdout",
     "output_type": "stream",
     "text": [
      "In process_image2\n",
      "In process_image2\n",
      "In process_image2\n"
     ]
    },
    {
     "name": "stderr",
     "output_type": "stream",
     "text": [
      "t:  38%|███▊      | 475/1260 [00:37<01:06, 11.89it/s, now=None]"
     ]
    },
    {
     "name": "stdout",
     "output_type": "stream",
     "text": [
      "In process_image2\n",
      "In process_image2\n",
      "In process_image2\n"
     ]
    },
    {
     "name": "stderr",
     "output_type": "stream",
     "text": [
      "\r",
      "t:  38%|███▊      | 477/1260 [00:37<01:06, 11.75it/s, now=None]"
     ]
    },
    {
     "name": "stdout",
     "output_type": "stream",
     "text": [
      "In process_image2\n",
      "In process_image2\n",
      "In process_image2\n"
     ]
    },
    {
     "name": "stderr",
     "output_type": "stream",
     "text": [
      "t:  38%|███▊      | 481/1260 [00:38<01:03, 12.32it/s, now=None]"
     ]
    },
    {
     "name": "stdout",
     "output_type": "stream",
     "text": [
      "In process_image2\n",
      "In process_image2\n",
      "In process_image2\n"
     ]
    },
    {
     "name": "stderr",
     "output_type": "stream",
     "text": [
      "\r",
      "t:  38%|███▊      | 483/1260 [00:38<01:02, 12.42it/s, now=None]"
     ]
    },
    {
     "name": "stdout",
     "output_type": "stream",
     "text": [
      "In process_image2\n",
      "In process_image2\n",
      "In process_image2\n"
     ]
    },
    {
     "name": "stderr",
     "output_type": "stream",
     "text": [
      "t:  39%|███▊      | 487/1260 [00:38<01:02, 12.41it/s, now=None]"
     ]
    },
    {
     "name": "stdout",
     "output_type": "stream",
     "text": [
      "In process_image2\n",
      "In process_image2\n",
      "In process_image2\n"
     ]
    },
    {
     "name": "stderr",
     "output_type": "stream",
     "text": [
      "\r",
      "t:  39%|███▉      | 489/1260 [00:38<01:01, 12.48it/s, now=None]"
     ]
    },
    {
     "name": "stdout",
     "output_type": "stream",
     "text": [
      "In process_image2\n",
      "In process_image2\n",
      "In process_image2\n"
     ]
    },
    {
     "name": "stderr",
     "output_type": "stream",
     "text": [
      "t:  39%|███▉      | 493/1260 [00:39<01:01, 12.51it/s, now=None]"
     ]
    },
    {
     "name": "stdout",
     "output_type": "stream",
     "text": [
      "In process_image2\n",
      "In process_image2\n",
      "In process_image2\n"
     ]
    },
    {
     "name": "stderr",
     "output_type": "stream",
     "text": [
      "\r",
      "t:  39%|███▉      | 495/1260 [00:39<01:02, 12.25it/s, now=None]"
     ]
    },
    {
     "name": "stdout",
     "output_type": "stream",
     "text": [
      "In process_image2\n",
      "In process_image2\n",
      "In process_image2\n"
     ]
    },
    {
     "name": "stderr",
     "output_type": "stream",
     "text": [
      "t:  40%|███▉      | 499/1260 [00:39<01:01, 12.34it/s, now=None]"
     ]
    },
    {
     "name": "stdout",
     "output_type": "stream",
     "text": [
      "In process_image2\n",
      "In process_image2\n",
      "In process_image2\n"
     ]
    },
    {
     "name": "stderr",
     "output_type": "stream",
     "text": [
      "\r",
      "t:  40%|███▉      | 501/1260 [00:39<01:02, 12.08it/s, now=None]"
     ]
    },
    {
     "name": "stdout",
     "output_type": "stream",
     "text": [
      "In process_image2\n",
      "In process_image2\n",
      "In process_image2\n"
     ]
    },
    {
     "name": "stderr",
     "output_type": "stream",
     "text": [
      "t:  40%|████      | 505/1260 [00:40<01:02, 12.02it/s, now=None]"
     ]
    },
    {
     "name": "stdout",
     "output_type": "stream",
     "text": [
      "In process_image2\n",
      "In process_image2\n",
      "In process_image2\n"
     ]
    },
    {
     "name": "stderr",
     "output_type": "stream",
     "text": [
      "\r",
      "t:  40%|████      | 507/1260 [00:40<01:02, 12.11it/s, now=None]"
     ]
    },
    {
     "name": "stdout",
     "output_type": "stream",
     "text": [
      "In process_image2\n",
      "In process_image2\n",
      "In process_image2\n"
     ]
    },
    {
     "name": "stderr",
     "output_type": "stream",
     "text": [
      "t:  41%|████      | 511/1260 [00:40<01:02, 11.90it/s, now=None]"
     ]
    },
    {
     "name": "stdout",
     "output_type": "stream",
     "text": [
      "In process_image2\n",
      "In process_image2\n",
      "In process_image2\n"
     ]
    },
    {
     "name": "stderr",
     "output_type": "stream",
     "text": [
      "\r",
      "t:  41%|████      | 513/1260 [00:40<01:01, 12.21it/s, now=None]"
     ]
    },
    {
     "name": "stdout",
     "output_type": "stream",
     "text": [
      "In process_image2\n",
      "In process_image2\n",
      "In process_image2\n"
     ]
    },
    {
     "name": "stderr",
     "output_type": "stream",
     "text": [
      "t:  41%|████      | 517/1260 [00:41<01:01, 12.11it/s, now=None]"
     ]
    },
    {
     "name": "stdout",
     "output_type": "stream",
     "text": [
      "In process_image2\n",
      "In process_image2\n",
      "In process_image2\n"
     ]
    },
    {
     "name": "stderr",
     "output_type": "stream",
     "text": [
      "\r",
      "t:  41%|████      | 519/1260 [00:41<01:00, 12.17it/s, now=None]"
     ]
    },
    {
     "name": "stdout",
     "output_type": "stream",
     "text": [
      "In process_image2\n",
      "In process_image2\n",
      "In process_image2\n"
     ]
    },
    {
     "name": "stderr",
     "output_type": "stream",
     "text": [
      "t:  42%|████▏     | 523/1260 [00:41<00:59, 12.38it/s, now=None]"
     ]
    },
    {
     "name": "stdout",
     "output_type": "stream",
     "text": [
      "In process_image2\n",
      "In process_image2\n",
      "In process_image2\n"
     ]
    },
    {
     "name": "stderr",
     "output_type": "stream",
     "text": [
      "\r",
      "t:  42%|████▏     | 525/1260 [00:41<00:59, 12.25it/s, now=None]"
     ]
    },
    {
     "name": "stdout",
     "output_type": "stream",
     "text": [
      "In process_image2\n",
      "In process_image2\n",
      "In process_image2\n"
     ]
    },
    {
     "name": "stderr",
     "output_type": "stream",
     "text": [
      "t:  42%|████▏     | 529/1260 [00:42<00:58, 12.44it/s, now=None]"
     ]
    },
    {
     "name": "stdout",
     "output_type": "stream",
     "text": [
      "In process_image2\n",
      "In process_image2\n",
      "In process_image2\n"
     ]
    },
    {
     "name": "stderr",
     "output_type": "stream",
     "text": [
      "\r",
      "t:  42%|████▏     | 531/1260 [00:42<00:59, 12.26it/s, now=None]"
     ]
    },
    {
     "name": "stdout",
     "output_type": "stream",
     "text": [
      "In process_image2\n",
      "In process_image2\n",
      "In process_image2\n"
     ]
    },
    {
     "name": "stderr",
     "output_type": "stream",
     "text": [
      "t:  42%|████▏     | 535/1260 [00:42<00:57, 12.61it/s, now=None]"
     ]
    },
    {
     "name": "stdout",
     "output_type": "stream",
     "text": [
      "In process_image2\n",
      "In process_image2\n",
      "In process_image2\n"
     ]
    },
    {
     "name": "stderr",
     "output_type": "stream",
     "text": [
      "\r",
      "t:  43%|████▎     | 537/1260 [00:42<00:57, 12.53it/s, now=None]"
     ]
    },
    {
     "name": "stdout",
     "output_type": "stream",
     "text": [
      "In process_image2\n",
      "In process_image2\n",
      "In process_image2\n"
     ]
    },
    {
     "name": "stderr",
     "output_type": "stream",
     "text": [
      "t:  43%|████▎     | 541/1260 [00:43<00:56, 12.70it/s, now=None]"
     ]
    },
    {
     "name": "stdout",
     "output_type": "stream",
     "text": [
      "In process_image2\n",
      "In process_image2\n",
      "In process_image2\n"
     ]
    },
    {
     "name": "stderr",
     "output_type": "stream",
     "text": [
      "\r",
      "t:  43%|████▎     | 543/1260 [00:43<00:55, 12.82it/s, now=None]"
     ]
    },
    {
     "name": "stdout",
     "output_type": "stream",
     "text": [
      "In process_image2\n",
      "In process_image2\n",
      "In process_image2\n"
     ]
    },
    {
     "name": "stderr",
     "output_type": "stream",
     "text": [
      "t:  43%|████▎     | 547/1260 [00:43<00:54, 12.97it/s, now=None]"
     ]
    },
    {
     "name": "stdout",
     "output_type": "stream",
     "text": [
      "In process_image2\n",
      "In process_image2\n",
      "In process_image2\n"
     ]
    },
    {
     "name": "stderr",
     "output_type": "stream",
     "text": [
      "\r",
      "t:  44%|████▎     | 549/1260 [00:43<00:55, 12.92it/s, now=None]"
     ]
    },
    {
     "name": "stdout",
     "output_type": "stream",
     "text": [
      "In process_image2\n",
      "In process_image2\n",
      "In process_image2\n"
     ]
    },
    {
     "name": "stderr",
     "output_type": "stream",
     "text": [
      "t:  44%|████▍     | 553/1260 [00:44<00:54, 12.94it/s, now=None]"
     ]
    },
    {
     "name": "stdout",
     "output_type": "stream",
     "text": [
      "In process_image2\n",
      "In process_image2\n",
      "In process_image2\n"
     ]
    },
    {
     "name": "stderr",
     "output_type": "stream",
     "text": [
      "\r",
      "t:  44%|████▍     | 555/1260 [00:44<00:55, 12.60it/s, now=None]"
     ]
    },
    {
     "name": "stdout",
     "output_type": "stream",
     "text": [
      "In process_image2\n",
      "In process_image2\n",
      "In process_image2\n"
     ]
    },
    {
     "name": "stderr",
     "output_type": "stream",
     "text": [
      "t:  44%|████▍     | 559/1260 [00:44<00:55, 12.73it/s, now=None]"
     ]
    },
    {
     "name": "stdout",
     "output_type": "stream",
     "text": [
      "In process_image2\n",
      "In process_image2\n",
      "In process_image2\n"
     ]
    },
    {
     "name": "stderr",
     "output_type": "stream",
     "text": [
      "\r",
      "t:  45%|████▍     | 561/1260 [00:44<00:54, 12.72it/s, now=None]"
     ]
    },
    {
     "name": "stdout",
     "output_type": "stream",
     "text": [
      "In process_image2\n",
      "In process_image2\n",
      "In process_image2\n"
     ]
    },
    {
     "name": "stderr",
     "output_type": "stream",
     "text": [
      "t:  45%|████▍     | 565/1260 [00:45<00:56, 12.29it/s, now=None]"
     ]
    },
    {
     "name": "stdout",
     "output_type": "stream",
     "text": [
      "In process_image2\n",
      "In process_image2\n",
      "In process_image2\n"
     ]
    },
    {
     "name": "stderr",
     "output_type": "stream",
     "text": [
      "\r",
      "t:  45%|████▌     | 567/1260 [00:45<00:55, 12.45it/s, now=None]"
     ]
    },
    {
     "name": "stdout",
     "output_type": "stream",
     "text": [
      "In process_image2\n",
      "In process_image2\n",
      "In process_image2\n"
     ]
    },
    {
     "name": "stderr",
     "output_type": "stream",
     "text": [
      "t:  45%|████▌     | 571/1260 [00:45<00:53, 12.80it/s, now=None]"
     ]
    },
    {
     "name": "stdout",
     "output_type": "stream",
     "text": [
      "In process_image2\n",
      "In process_image2\n",
      "In process_image2\n"
     ]
    },
    {
     "name": "stderr",
     "output_type": "stream",
     "text": [
      "\r",
      "t:  45%|████▌     | 573/1260 [00:45<00:55, 12.41it/s, now=None]"
     ]
    },
    {
     "name": "stdout",
     "output_type": "stream",
     "text": [
      "In process_image2\n",
      "In process_image2\n",
      "In process_image2\n"
     ]
    },
    {
     "name": "stderr",
     "output_type": "stream",
     "text": [
      "t:  46%|████▌     | 577/1260 [00:45<00:53, 12.84it/s, now=None]"
     ]
    },
    {
     "name": "stdout",
     "output_type": "stream",
     "text": [
      "In process_image2\n",
      "In process_image2\n",
      "In process_image2\n"
     ]
    },
    {
     "name": "stderr",
     "output_type": "stream",
     "text": [
      "\r",
      "t:  46%|████▌     | 579/1260 [00:46<00:52, 13.00it/s, now=None]"
     ]
    },
    {
     "name": "stdout",
     "output_type": "stream",
     "text": [
      "In process_image2\n",
      "In process_image2\n",
      "In process_image2\n"
     ]
    },
    {
     "name": "stderr",
     "output_type": "stream",
     "text": [
      "t:  46%|████▋     | 583/1260 [00:46<00:53, 12.75it/s, now=None]"
     ]
    },
    {
     "name": "stdout",
     "output_type": "stream",
     "text": [
      "In process_image2\n",
      "In process_image2\n",
      "In process_image2\n"
     ]
    },
    {
     "name": "stderr",
     "output_type": "stream",
     "text": [
      "\r",
      "t:  46%|████▋     | 585/1260 [00:46<00:54, 12.49it/s, now=None]"
     ]
    },
    {
     "name": "stdout",
     "output_type": "stream",
     "text": [
      "In process_image2\n",
      "In process_image2\n",
      "In process_image2\n"
     ]
    },
    {
     "name": "stderr",
     "output_type": "stream",
     "text": [
      "t:  47%|████▋     | 589/1260 [00:46<00:52, 12.81it/s, now=None]"
     ]
    },
    {
     "name": "stdout",
     "output_type": "stream",
     "text": [
      "In process_image2\n",
      "In process_image2\n",
      "In process_image2\n"
     ]
    },
    {
     "name": "stderr",
     "output_type": "stream",
     "text": [
      "\r",
      "t:  47%|████▋     | 591/1260 [00:47<00:52, 12.64it/s, now=None]"
     ]
    },
    {
     "name": "stdout",
     "output_type": "stream",
     "text": [
      "In process_image2\n",
      "In process_image2\n",
      "In process_image2\n"
     ]
    },
    {
     "name": "stderr",
     "output_type": "stream",
     "text": [
      "t:  47%|████▋     | 595/1260 [00:47<00:51, 12.80it/s, now=None]"
     ]
    },
    {
     "name": "stdout",
     "output_type": "stream",
     "text": [
      "In process_image2\n",
      "In process_image2\n",
      "In process_image2\n"
     ]
    },
    {
     "name": "stderr",
     "output_type": "stream",
     "text": [
      "\r",
      "t:  47%|████▋     | 597/1260 [00:47<00:53, 12.44it/s, now=None]"
     ]
    },
    {
     "name": "stdout",
     "output_type": "stream",
     "text": [
      "In process_image2\n",
      "In process_image2\n",
      "In process_image2\n"
     ]
    },
    {
     "name": "stderr",
     "output_type": "stream",
     "text": [
      "t:  48%|████▊     | 601/1260 [00:47<00:51, 12.73it/s, now=None]"
     ]
    },
    {
     "name": "stdout",
     "output_type": "stream",
     "text": [
      "In process_image2\n",
      "In process_image2\n",
      "In process_image2\n"
     ]
    },
    {
     "name": "stderr",
     "output_type": "stream",
     "text": [
      "\r",
      "t:  48%|████▊     | 603/1260 [00:48<00:54, 12.14it/s, now=None]"
     ]
    },
    {
     "name": "stdout",
     "output_type": "stream",
     "text": [
      "In process_image2\n",
      "In process_image2\n",
      "In process_image2\n"
     ]
    },
    {
     "name": "stderr",
     "output_type": "stream",
     "text": [
      "t:  48%|████▊     | 607/1260 [00:48<00:52, 12.53it/s, now=None]"
     ]
    },
    {
     "name": "stdout",
     "output_type": "stream",
     "text": [
      "In process_image2\n",
      "In process_image2\n",
      "In process_image2\n"
     ]
    },
    {
     "name": "stderr",
     "output_type": "stream",
     "text": [
      "\r",
      "t:  48%|████▊     | 609/1260 [00:48<00:51, 12.75it/s, now=None]"
     ]
    },
    {
     "name": "stdout",
     "output_type": "stream",
     "text": [
      "In process_image2\n",
      "In process_image2\n",
      "In process_image2\n"
     ]
    },
    {
     "name": "stderr",
     "output_type": "stream",
     "text": [
      "t:  49%|████▊     | 613/1260 [00:48<00:51, 12.66it/s, now=None]"
     ]
    },
    {
     "name": "stdout",
     "output_type": "stream",
     "text": [
      "In process_image2\n",
      "In process_image2\n",
      "In process_image2\n"
     ]
    },
    {
     "name": "stderr",
     "output_type": "stream",
     "text": [
      "\r",
      "t:  49%|████▉     | 615/1260 [00:48<00:50, 12.82it/s, now=None]"
     ]
    },
    {
     "name": "stdout",
     "output_type": "stream",
     "text": [
      "In process_image2\n",
      "In process_image2\n",
      "In process_image2\n"
     ]
    },
    {
     "name": "stderr",
     "output_type": "stream",
     "text": [
      "t:  49%|████▉     | 619/1260 [00:49<00:49, 12.90it/s, now=None]"
     ]
    },
    {
     "name": "stdout",
     "output_type": "stream",
     "text": [
      "In process_image2\n",
      "In process_image2\n",
      "In process_image2\n"
     ]
    },
    {
     "name": "stderr",
     "output_type": "stream",
     "text": [
      "\r",
      "t:  49%|████▉     | 621/1260 [00:49<00:49, 12.95it/s, now=None]"
     ]
    },
    {
     "name": "stdout",
     "output_type": "stream",
     "text": [
      "In process_image2\n",
      "In process_image2\n",
      "In process_image2\n"
     ]
    },
    {
     "name": "stderr",
     "output_type": "stream",
     "text": [
      "t:  50%|████▉     | 625/1260 [00:49<00:48, 12.96it/s, now=None]"
     ]
    },
    {
     "name": "stdout",
     "output_type": "stream",
     "text": [
      "In process_image2\n",
      "In process_image2\n",
      "In process_image2\n"
     ]
    },
    {
     "name": "stderr",
     "output_type": "stream",
     "text": [
      "\r",
      "t:  50%|████▉     | 627/1260 [00:49<00:50, 12.42it/s, now=None]"
     ]
    },
    {
     "name": "stdout",
     "output_type": "stream",
     "text": [
      "In process_image2\n",
      "In process_image2\n",
      "In process_image2\n"
     ]
    },
    {
     "name": "stderr",
     "output_type": "stream",
     "text": [
      "t:  50%|█████     | 631/1260 [00:50<00:50, 12.37it/s, now=None]"
     ]
    },
    {
     "name": "stdout",
     "output_type": "stream",
     "text": [
      "In process_image2\n",
      "In process_image2\n",
      "In process_image2\n"
     ]
    },
    {
     "name": "stderr",
     "output_type": "stream",
     "text": [
      "\r",
      "t:  50%|█████     | 633/1260 [00:50<00:51, 12.29it/s, now=None]"
     ]
    },
    {
     "name": "stdout",
     "output_type": "stream",
     "text": [
      "In process_image2\n",
      "In process_image2\n",
      "In process_image2\n"
     ]
    },
    {
     "name": "stderr",
     "output_type": "stream",
     "text": [
      "t:  51%|█████     | 637/1260 [00:50<00:50, 12.38it/s, now=None]"
     ]
    },
    {
     "name": "stdout",
     "output_type": "stream",
     "text": [
      "In process_image2\n",
      "In process_image2\n",
      "In process_image2\n"
     ]
    },
    {
     "name": "stderr",
     "output_type": "stream",
     "text": [
      "\r",
      "t:  51%|█████     | 639/1260 [00:50<00:49, 12.58it/s, now=None]"
     ]
    },
    {
     "name": "stdout",
     "output_type": "stream",
     "text": [
      "In process_image2\n",
      "In process_image2\n",
      "In process_image2\n"
     ]
    },
    {
     "name": "stderr",
     "output_type": "stream",
     "text": [
      "t:  51%|█████     | 643/1260 [00:51<00:51, 11.93it/s, now=None]"
     ]
    },
    {
     "name": "stdout",
     "output_type": "stream",
     "text": [
      "In process_image2\n",
      "In process_image2\n",
      "In process_image2\n"
     ]
    },
    {
     "name": "stderr",
     "output_type": "stream",
     "text": [
      "\r",
      "t:  51%|█████     | 645/1260 [00:51<00:51, 11.98it/s, now=None]"
     ]
    },
    {
     "name": "stdout",
     "output_type": "stream",
     "text": [
      "In process_image2\n",
      "In process_image2\n",
      "In process_image2\n"
     ]
    },
    {
     "name": "stderr",
     "output_type": "stream",
     "text": [
      "t:  52%|█████▏    | 649/1260 [00:51<00:50, 12.21it/s, now=None]"
     ]
    },
    {
     "name": "stdout",
     "output_type": "stream",
     "text": [
      "In process_image2\n",
      "In process_image2\n",
      "In process_image2\n"
     ]
    },
    {
     "name": "stderr",
     "output_type": "stream",
     "text": [
      "\r",
      "t:  52%|█████▏    | 651/1260 [00:51<00:49, 12.40it/s, now=None]"
     ]
    },
    {
     "name": "stdout",
     "output_type": "stream",
     "text": [
      "In process_image2\n",
      "In process_image2\n",
      "In process_image2\n"
     ]
    },
    {
     "name": "stderr",
     "output_type": "stream",
     "text": [
      "t:  52%|█████▏    | 655/1260 [00:52<00:47, 12.76it/s, now=None]"
     ]
    },
    {
     "name": "stdout",
     "output_type": "stream",
     "text": [
      "In process_image2\n",
      "In process_image2\n",
      "In process_image2\n"
     ]
    },
    {
     "name": "stderr",
     "output_type": "stream",
     "text": [
      "\r",
      "t:  52%|█████▏    | 657/1260 [00:52<00:48, 12.44it/s, now=None]"
     ]
    },
    {
     "name": "stdout",
     "output_type": "stream",
     "text": [
      "In process_image2\n",
      "In process_image2\n",
      "In process_image2\n"
     ]
    },
    {
     "name": "stderr",
     "output_type": "stream",
     "text": [
      "t:  52%|█████▏    | 661/1260 [00:52<00:48, 12.38it/s, now=None]"
     ]
    },
    {
     "name": "stdout",
     "output_type": "stream",
     "text": [
      "In process_image2\n",
      "In process_image2\n",
      "In process_image2\n"
     ]
    },
    {
     "name": "stderr",
     "output_type": "stream",
     "text": [
      "\r",
      "t:  53%|█████▎    | 663/1260 [00:52<00:48, 12.29it/s, now=None]"
     ]
    },
    {
     "name": "stdout",
     "output_type": "stream",
     "text": [
      "In process_image2\n",
      "In process_image2\n",
      "In process_image2\n"
     ]
    },
    {
     "name": "stderr",
     "output_type": "stream",
     "text": [
      "t:  53%|█████▎    | 667/1260 [00:53<00:48, 12.33it/s, now=None]"
     ]
    },
    {
     "name": "stdout",
     "output_type": "stream",
     "text": [
      "In process_image2\n",
      "In process_image2\n",
      "In process_image2\n"
     ]
    },
    {
     "name": "stderr",
     "output_type": "stream",
     "text": [
      "\r",
      "t:  53%|█████▎    | 669/1260 [00:53<00:48, 12.30it/s, now=None]"
     ]
    },
    {
     "name": "stdout",
     "output_type": "stream",
     "text": [
      "In process_image2\n",
      "In process_image2\n",
      "In process_image2\n"
     ]
    },
    {
     "name": "stderr",
     "output_type": "stream",
     "text": [
      "t:  53%|█████▎    | 673/1260 [00:53<00:47, 12.43it/s, now=None]"
     ]
    },
    {
     "name": "stdout",
     "output_type": "stream",
     "text": [
      "In process_image2\n",
      "In process_image2\n",
      "In process_image2\n"
     ]
    },
    {
     "name": "stderr",
     "output_type": "stream",
     "text": [
      "\r",
      "t:  54%|█████▎    | 675/1260 [00:53<00:47, 12.36it/s, now=None]"
     ]
    },
    {
     "name": "stdout",
     "output_type": "stream",
     "text": [
      "In process_image2\n",
      "In process_image2\n",
      "In process_image2\n"
     ]
    },
    {
     "name": "stderr",
     "output_type": "stream",
     "text": [
      "t:  54%|█████▍    | 679/1260 [00:54<00:48, 11.97it/s, now=None]"
     ]
    },
    {
     "name": "stdout",
     "output_type": "stream",
     "text": [
      "In process_image2\n",
      "In process_image2\n",
      "In process_image2\n"
     ]
    },
    {
     "name": "stderr",
     "output_type": "stream",
     "text": [
      "\r",
      "t:  54%|█████▍    | 681/1260 [00:54<00:47, 12.20it/s, now=None]"
     ]
    },
    {
     "name": "stdout",
     "output_type": "stream",
     "text": [
      "In process_image2\n",
      "In process_image2\n",
      "In process_image2\n"
     ]
    },
    {
     "name": "stderr",
     "output_type": "stream",
     "text": [
      "t:  54%|█████▍    | 685/1260 [00:54<00:48, 11.96it/s, now=None]"
     ]
    },
    {
     "name": "stdout",
     "output_type": "stream",
     "text": [
      "In process_image2\n",
      "In process_image2\n",
      "In process_image2\n"
     ]
    },
    {
     "name": "stderr",
     "output_type": "stream",
     "text": [
      "\r",
      "t:  55%|█████▍    | 687/1260 [00:54<00:46, 12.25it/s, now=None]"
     ]
    },
    {
     "name": "stdout",
     "output_type": "stream",
     "text": [
      "In process_image2\n",
      "In process_image2\n",
      "In process_image2\n"
     ]
    },
    {
     "name": "stderr",
     "output_type": "stream",
     "text": [
      "t:  55%|█████▍    | 691/1260 [00:55<00:46, 12.25it/s, now=None]"
     ]
    },
    {
     "name": "stdout",
     "output_type": "stream",
     "text": [
      "In process_image2\n",
      "In process_image2\n",
      "In process_image2\n"
     ]
    },
    {
     "name": "stderr",
     "output_type": "stream",
     "text": [
      "\r",
      "t:  55%|█████▌    | 693/1260 [00:55<00:46, 12.31it/s, now=None]"
     ]
    },
    {
     "name": "stdout",
     "output_type": "stream",
     "text": [
      "In process_image2\n",
      "In process_image2\n",
      "In process_image2\n"
     ]
    },
    {
     "name": "stderr",
     "output_type": "stream",
     "text": [
      "t:  55%|█████▌    | 697/1260 [00:55<00:46, 12.14it/s, now=None]"
     ]
    },
    {
     "name": "stdout",
     "output_type": "stream",
     "text": [
      "In process_image2\n",
      "In process_image2\n",
      "In process_image2\n"
     ]
    },
    {
     "name": "stderr",
     "output_type": "stream",
     "text": [
      "\r",
      "t:  55%|█████▌    | 699/1260 [00:55<00:45, 12.31it/s, now=None]"
     ]
    },
    {
     "name": "stdout",
     "output_type": "stream",
     "text": [
      "In process_image2\n",
      "In process_image2\n",
      "In process_image2\n"
     ]
    },
    {
     "name": "stderr",
     "output_type": "stream",
     "text": [
      "t:  56%|█████▌    | 703/1260 [00:56<00:46, 12.06it/s, now=None]"
     ]
    },
    {
     "name": "stdout",
     "output_type": "stream",
     "text": [
      "In process_image2\n",
      "In process_image2\n",
      "In process_image2\n"
     ]
    },
    {
     "name": "stderr",
     "output_type": "stream",
     "text": [
      "\r",
      "t:  56%|█████▌    | 705/1260 [00:56<00:46, 11.97it/s, now=None]"
     ]
    },
    {
     "name": "stdout",
     "output_type": "stream",
     "text": [
      "In process_image2\n",
      "In process_image2\n",
      "In process_image2\n"
     ]
    },
    {
     "name": "stderr",
     "output_type": "stream",
     "text": [
      "t:  56%|█████▋    | 709/1260 [00:56<00:46, 11.95it/s, now=None]"
     ]
    },
    {
     "name": "stdout",
     "output_type": "stream",
     "text": [
      "In process_image2\n",
      "In process_image2\n",
      "In process_image2\n"
     ]
    },
    {
     "name": "stderr",
     "output_type": "stream",
     "text": [
      "\r",
      "t:  56%|█████▋    | 711/1260 [00:56<00:45, 12.13it/s, now=None]"
     ]
    },
    {
     "name": "stdout",
     "output_type": "stream",
     "text": [
      "In process_image2\n",
      "In process_image2\n",
      "In process_image2\n"
     ]
    },
    {
     "name": "stderr",
     "output_type": "stream",
     "text": [
      "t:  57%|█████▋    | 715/1260 [00:57<00:45, 12.03it/s, now=None]"
     ]
    },
    {
     "name": "stdout",
     "output_type": "stream",
     "text": [
      "In process_image2\n",
      "In process_image2\n",
      "In process_image2\n"
     ]
    },
    {
     "name": "stderr",
     "output_type": "stream",
     "text": [
      "\r",
      "t:  57%|█████▋    | 717/1260 [00:57<00:44, 12.10it/s, now=None]"
     ]
    },
    {
     "name": "stdout",
     "output_type": "stream",
     "text": [
      "In process_image2\n",
      "In process_image2\n",
      "In process_image2\n"
     ]
    },
    {
     "name": "stderr",
     "output_type": "stream",
     "text": [
      "t:  57%|█████▋    | 721/1260 [00:57<00:44, 12.22it/s, now=None]"
     ]
    },
    {
     "name": "stdout",
     "output_type": "stream",
     "text": [
      "In process_image2\n",
      "In process_image2\n",
      "In process_image2\n"
     ]
    },
    {
     "name": "stderr",
     "output_type": "stream",
     "text": [
      "\r",
      "t:  57%|█████▋    | 723/1260 [00:57<00:43, 12.40it/s, now=None]"
     ]
    },
    {
     "name": "stdout",
     "output_type": "stream",
     "text": [
      "In process_image2\n",
      "In process_image2\n",
      "In process_image2\n"
     ]
    },
    {
     "name": "stderr",
     "output_type": "stream",
     "text": [
      "t:  58%|█████▊    | 727/1260 [00:58<00:42, 12.45it/s, now=None]"
     ]
    },
    {
     "name": "stdout",
     "output_type": "stream",
     "text": [
      "In process_image2\n",
      "In process_image2\n",
      "In process_image2\n"
     ]
    },
    {
     "name": "stderr",
     "output_type": "stream",
     "text": [
      "\r",
      "t:  58%|█████▊    | 729/1260 [00:58<00:42, 12.36it/s, now=None]"
     ]
    },
    {
     "name": "stdout",
     "output_type": "stream",
     "text": [
      "In process_image2\n",
      "In process_image2\n",
      "In process_image2\n"
     ]
    },
    {
     "name": "stderr",
     "output_type": "stream",
     "text": [
      "t:  58%|█████▊    | 733/1260 [00:58<00:42, 12.47it/s, now=None]"
     ]
    },
    {
     "name": "stdout",
     "output_type": "stream",
     "text": [
      "In process_image2\n",
      "In process_image2\n",
      "In process_image2\n"
     ]
    },
    {
     "name": "stderr",
     "output_type": "stream",
     "text": [
      "\r",
      "t:  58%|█████▊    | 735/1260 [00:58<00:42, 12.47it/s, now=None]"
     ]
    },
    {
     "name": "stdout",
     "output_type": "stream",
     "text": [
      "In process_image2\n",
      "In process_image2\n",
      "In process_image2\n"
     ]
    },
    {
     "name": "stderr",
     "output_type": "stream",
     "text": [
      "t:  59%|█████▊    | 739/1260 [00:59<00:41, 12.66it/s, now=None]"
     ]
    },
    {
     "name": "stdout",
     "output_type": "stream",
     "text": [
      "In process_image2\n",
      "In process_image2\n",
      "In process_image2\n"
     ]
    },
    {
     "name": "stderr",
     "output_type": "stream",
     "text": [
      "\r",
      "t:  59%|█████▉    | 741/1260 [00:59<00:41, 12.63it/s, now=None]"
     ]
    },
    {
     "name": "stdout",
     "output_type": "stream",
     "text": [
      "In process_image2\n",
      "In process_image2\n",
      "In process_image2\n"
     ]
    },
    {
     "name": "stderr",
     "output_type": "stream",
     "text": [
      "t:  59%|█████▉    | 745/1260 [00:59<00:40, 12.67it/s, now=None]"
     ]
    },
    {
     "name": "stdout",
     "output_type": "stream",
     "text": [
      "In process_image2\n",
      "In process_image2\n",
      "In process_image2\n"
     ]
    },
    {
     "name": "stderr",
     "output_type": "stream",
     "text": [
      "\r",
      "t:  59%|█████▉    | 747/1260 [00:59<00:40, 12.77it/s, now=None]"
     ]
    },
    {
     "name": "stdout",
     "output_type": "stream",
     "text": [
      "In process_image2\n",
      "In process_image2\n",
      "In process_image2\n"
     ]
    },
    {
     "name": "stderr",
     "output_type": "stream",
     "text": [
      "t:  60%|█████▉    | 751/1260 [00:59<00:40, 12.59it/s, now=None]"
     ]
    },
    {
     "name": "stdout",
     "output_type": "stream",
     "text": [
      "In process_image2\n",
      "In process_image2\n",
      "In process_image2\n"
     ]
    },
    {
     "name": "stderr",
     "output_type": "stream",
     "text": [
      "\r",
      "t:  60%|█████▉    | 753/1260 [01:00<00:40, 12.49it/s, now=None]"
     ]
    },
    {
     "name": "stdout",
     "output_type": "stream",
     "text": [
      "In process_image2\n",
      "In process_image2\n",
      "In process_image2\n"
     ]
    },
    {
     "name": "stderr",
     "output_type": "stream",
     "text": [
      "t:  60%|██████    | 757/1260 [01:00<00:40, 12.55it/s, now=None]"
     ]
    },
    {
     "name": "stdout",
     "output_type": "stream",
     "text": [
      "In process_image2\n",
      "In process_image2\n",
      "In process_image2\n"
     ]
    },
    {
     "name": "stderr",
     "output_type": "stream",
     "text": [
      "\r",
      "t:  60%|██████    | 759/1260 [01:00<00:39, 12.62it/s, now=None]"
     ]
    },
    {
     "name": "stdout",
     "output_type": "stream",
     "text": [
      "In process_image2\n",
      "In process_image2\n",
      "In process_image2\n"
     ]
    },
    {
     "name": "stderr",
     "output_type": "stream",
     "text": [
      "t:  61%|██████    | 763/1260 [01:00<00:39, 12.63it/s, now=None]"
     ]
    },
    {
     "name": "stdout",
     "output_type": "stream",
     "text": [
      "In process_image2\n",
      "In process_image2\n",
      "In process_image2\n"
     ]
    },
    {
     "name": "stderr",
     "output_type": "stream",
     "text": [
      "\r",
      "t:  61%|██████    | 765/1260 [01:01<00:39, 12.53it/s, now=None]"
     ]
    },
    {
     "name": "stdout",
     "output_type": "stream",
     "text": [
      "In process_image2\n",
      "In process_image2\n",
      "In process_image2\n"
     ]
    },
    {
     "name": "stderr",
     "output_type": "stream",
     "text": [
      "t:  61%|██████    | 769/1260 [01:01<00:39, 12.29it/s, now=None]"
     ]
    },
    {
     "name": "stdout",
     "output_type": "stream",
     "text": [
      "In process_image2\n",
      "In process_image2\n",
      "In process_image2\n"
     ]
    },
    {
     "name": "stderr",
     "output_type": "stream",
     "text": [
      "\r",
      "t:  61%|██████    | 771/1260 [01:01<00:39, 12.36it/s, now=None]"
     ]
    },
    {
     "name": "stdout",
     "output_type": "stream",
     "text": [
      "In process_image2\n",
      "In process_image2\n",
      "In process_image2\n"
     ]
    },
    {
     "name": "stderr",
     "output_type": "stream",
     "text": [
      "t:  62%|██████▏   | 775/1260 [01:01<00:40, 11.98it/s, now=None]"
     ]
    },
    {
     "name": "stdout",
     "output_type": "stream",
     "text": [
      "In process_image2\n",
      "In process_image2\n",
      "In process_image2\n"
     ]
    },
    {
     "name": "stderr",
     "output_type": "stream",
     "text": [
      "\r",
      "t:  62%|██████▏   | 777/1260 [01:02<00:39, 12.21it/s, now=None]"
     ]
    },
    {
     "name": "stdout",
     "output_type": "stream",
     "text": [
      "In process_image2\n",
      "In process_image2\n",
      "In process_image2\n"
     ]
    },
    {
     "name": "stderr",
     "output_type": "stream",
     "text": [
      "t:  62%|██████▏   | 781/1260 [01:02<00:39, 12.28it/s, now=None]"
     ]
    },
    {
     "name": "stdout",
     "output_type": "stream",
     "text": [
      "In process_image2\n",
      "In process_image2\n",
      "In process_image2\n"
     ]
    },
    {
     "name": "stderr",
     "output_type": "stream",
     "text": [
      "\r",
      "t:  62%|██████▏   | 783/1260 [01:02<00:39, 12.16it/s, now=None]"
     ]
    },
    {
     "name": "stdout",
     "output_type": "stream",
     "text": [
      "In process_image2\n",
      "In process_image2\n",
      "In process_image2\n"
     ]
    },
    {
     "name": "stderr",
     "output_type": "stream",
     "text": [
      "t:  62%|██████▏   | 787/1260 [01:02<00:38, 12.32it/s, now=None]"
     ]
    },
    {
     "name": "stdout",
     "output_type": "stream",
     "text": [
      "In process_image2\n",
      "In process_image2\n",
      "In process_image2\n"
     ]
    },
    {
     "name": "stderr",
     "output_type": "stream",
     "text": [
      "\r",
      "t:  63%|██████▎   | 789/1260 [01:03<00:39, 11.87it/s, now=None]"
     ]
    },
    {
     "name": "stdout",
     "output_type": "stream",
     "text": [
      "In process_image2\n",
      "In process_image2\n",
      "In process_image2\n"
     ]
    },
    {
     "name": "stderr",
     "output_type": "stream",
     "text": [
      "t:  63%|██████▎   | 793/1260 [01:03<00:37, 12.35it/s, now=None]"
     ]
    },
    {
     "name": "stdout",
     "output_type": "stream",
     "text": [
      "In process_image2\n",
      "In process_image2\n",
      "In process_image2\n"
     ]
    },
    {
     "name": "stderr",
     "output_type": "stream",
     "text": [
      "\r",
      "t:  63%|██████▎   | 795/1260 [01:03<00:38, 12.07it/s, now=None]"
     ]
    },
    {
     "name": "stdout",
     "output_type": "stream",
     "text": [
      "In process_image2\n",
      "In process_image2\n",
      "In process_image2\n"
     ]
    },
    {
     "name": "stderr",
     "output_type": "stream",
     "text": [
      "t:  63%|██████▎   | 799/1260 [01:03<00:37, 12.36it/s, now=None]"
     ]
    },
    {
     "name": "stdout",
     "output_type": "stream",
     "text": [
      "In process_image2\n",
      "In process_image2\n",
      "In process_image2\n"
     ]
    },
    {
     "name": "stderr",
     "output_type": "stream",
     "text": [
      "\r",
      "t:  64%|██████▎   | 801/1260 [01:04<00:36, 12.55it/s, now=None]"
     ]
    },
    {
     "name": "stdout",
     "output_type": "stream",
     "text": [
      "In process_image2\n",
      "In process_image2\n",
      "In process_image2\n"
     ]
    },
    {
     "name": "stderr",
     "output_type": "stream",
     "text": [
      "t:  64%|██████▍   | 805/1260 [01:04<00:37, 12.22it/s, now=None]"
     ]
    },
    {
     "name": "stdout",
     "output_type": "stream",
     "text": [
      "In process_image2\n",
      "In process_image2\n",
      "In process_image2\n"
     ]
    },
    {
     "name": "stderr",
     "output_type": "stream",
     "text": [
      "\r",
      "t:  64%|██████▍   | 807/1260 [01:04<00:37, 12.09it/s, now=None]"
     ]
    },
    {
     "name": "stdout",
     "output_type": "stream",
     "text": [
      "In process_image2\n",
      "In process_image2\n",
      "In process_image2\n"
     ]
    },
    {
     "name": "stderr",
     "output_type": "stream",
     "text": [
      "t:  64%|██████▍   | 811/1260 [01:04<00:38, 11.61it/s, now=None]"
     ]
    },
    {
     "name": "stdout",
     "output_type": "stream",
     "text": [
      "In process_image2\n",
      "In process_image2\n",
      "In process_image2\n"
     ]
    },
    {
     "name": "stderr",
     "output_type": "stream",
     "text": [
      "\r",
      "t:  65%|██████▍   | 813/1260 [01:05<00:38, 11.62it/s, now=None]"
     ]
    },
    {
     "name": "stdout",
     "output_type": "stream",
     "text": [
      "In process_image2\n",
      "In process_image2\n",
      "In process_image2\n"
     ]
    },
    {
     "name": "stderr",
     "output_type": "stream",
     "text": [
      "t:  65%|██████▍   | 817/1260 [01:05<00:37, 11.69it/s, now=None]"
     ]
    },
    {
     "name": "stdout",
     "output_type": "stream",
     "text": [
      "In process_image2\n",
      "In process_image2\n",
      "In process_image2\n"
     ]
    },
    {
     "name": "stderr",
     "output_type": "stream",
     "text": [
      "\r",
      "t:  65%|██████▌   | 819/1260 [01:05<00:36, 11.96it/s, now=None]"
     ]
    },
    {
     "name": "stdout",
     "output_type": "stream",
     "text": [
      "In process_image2\n",
      "In process_image2\n",
      "In process_image2\n"
     ]
    },
    {
     "name": "stderr",
     "output_type": "stream",
     "text": [
      "t:  65%|██████▌   | 823/1260 [01:05<00:36, 11.85it/s, now=None]"
     ]
    },
    {
     "name": "stdout",
     "output_type": "stream",
     "text": [
      "In process_image2\n",
      "In process_image2\n",
      "In process_image2\n"
     ]
    },
    {
     "name": "stderr",
     "output_type": "stream",
     "text": [
      "\r",
      "t:  65%|██████▌   | 825/1260 [01:06<00:36, 11.96it/s, now=None]"
     ]
    },
    {
     "name": "stdout",
     "output_type": "stream",
     "text": [
      "In process_image2\n",
      "In process_image2\n",
      "In process_image2\n"
     ]
    },
    {
     "name": "stderr",
     "output_type": "stream",
     "text": [
      "t:  66%|██████▌   | 829/1260 [01:06<00:34, 12.34it/s, now=None]"
     ]
    },
    {
     "name": "stdout",
     "output_type": "stream",
     "text": [
      "In process_image2\n",
      "In process_image2\n",
      "In process_image2\n"
     ]
    },
    {
     "name": "stderr",
     "output_type": "stream",
     "text": [
      "\r",
      "t:  66%|██████▌   | 831/1260 [01:06<00:34, 12.43it/s, now=None]"
     ]
    },
    {
     "name": "stdout",
     "output_type": "stream",
     "text": [
      "In process_image2\n",
      "In process_image2\n",
      "In process_image2\n"
     ]
    },
    {
     "name": "stderr",
     "output_type": "stream",
     "text": [
      "t:  66%|██████▋   | 835/1260 [01:06<00:33, 12.60it/s, now=None]"
     ]
    },
    {
     "name": "stdout",
     "output_type": "stream",
     "text": [
      "In process_image2\n",
      "In process_image2\n",
      "In process_image2\n"
     ]
    },
    {
     "name": "stderr",
     "output_type": "stream",
     "text": [
      "\r",
      "t:  66%|██████▋   | 837/1260 [01:07<00:33, 12.65it/s, now=None]"
     ]
    },
    {
     "name": "stdout",
     "output_type": "stream",
     "text": [
      "In process_image2\n",
      "In process_image2\n",
      "In process_image2\n"
     ]
    },
    {
     "name": "stderr",
     "output_type": "stream",
     "text": [
      "t:  67%|██████▋   | 841/1260 [01:07<00:32, 12.73it/s, now=None]"
     ]
    },
    {
     "name": "stdout",
     "output_type": "stream",
     "text": [
      "In process_image2\n",
      "In process_image2\n",
      "In process_image2\n"
     ]
    },
    {
     "name": "stderr",
     "output_type": "stream",
     "text": [
      "\r",
      "t:  67%|██████▋   | 843/1260 [01:07<00:32, 12.72it/s, now=None]"
     ]
    },
    {
     "name": "stdout",
     "output_type": "stream",
     "text": [
      "In process_image2\n",
      "In process_image2\n",
      "In process_image2\n"
     ]
    },
    {
     "name": "stderr",
     "output_type": "stream",
     "text": [
      "t:  67%|██████▋   | 847/1260 [01:07<00:33, 12.49it/s, now=None]"
     ]
    },
    {
     "name": "stdout",
     "output_type": "stream",
     "text": [
      "In process_image2\n",
      "In process_image2\n",
      "In process_image2\n"
     ]
    },
    {
     "name": "stderr",
     "output_type": "stream",
     "text": [
      "\r",
      "t:  67%|██████▋   | 849/1260 [01:07<00:33, 12.44it/s, now=None]"
     ]
    },
    {
     "name": "stdout",
     "output_type": "stream",
     "text": [
      "In process_image2\n",
      "In process_image2\n",
      "In process_image2\n"
     ]
    },
    {
     "name": "stderr",
     "output_type": "stream",
     "text": [
      "t:  68%|██████▊   | 853/1260 [01:08<00:32, 12.68it/s, now=None]"
     ]
    },
    {
     "name": "stdout",
     "output_type": "stream",
     "text": [
      "In process_image2\n",
      "In process_image2\n",
      "In process_image2\n"
     ]
    },
    {
     "name": "stderr",
     "output_type": "stream",
     "text": [
      "\r",
      "t:  68%|██████▊   | 855/1260 [01:08<00:31, 12.89it/s, now=None]"
     ]
    },
    {
     "name": "stdout",
     "output_type": "stream",
     "text": [
      "In process_image2\n",
      "In process_image2\n",
      "In process_image2\n"
     ]
    },
    {
     "name": "stderr",
     "output_type": "stream",
     "text": [
      "t:  68%|██████▊   | 859/1260 [01:08<00:30, 13.06it/s, now=None]"
     ]
    },
    {
     "name": "stdout",
     "output_type": "stream",
     "text": [
      "In process_image2\n",
      "In process_image2\n",
      "In process_image2\n"
     ]
    },
    {
     "name": "stderr",
     "output_type": "stream",
     "text": [
      "\r",
      "t:  68%|██████▊   | 861/1260 [01:08<00:30, 12.99it/s, now=None]"
     ]
    },
    {
     "name": "stdout",
     "output_type": "stream",
     "text": [
      "In process_image2\n",
      "In process_image2\n",
      "In process_image2\n"
     ]
    },
    {
     "name": "stderr",
     "output_type": "stream",
     "text": [
      "t:  69%|██████▊   | 865/1260 [01:09<00:30, 12.88it/s, now=None]"
     ]
    },
    {
     "name": "stdout",
     "output_type": "stream",
     "text": [
      "In process_image2\n",
      "In process_image2\n",
      "In process_image2\n"
     ]
    },
    {
     "name": "stderr",
     "output_type": "stream",
     "text": [
      "\r",
      "t:  69%|██████▉   | 867/1260 [01:09<00:30, 12.95it/s, now=None]"
     ]
    },
    {
     "name": "stdout",
     "output_type": "stream",
     "text": [
      "In process_image2\n",
      "In process_image2\n",
      "In process_image2\n"
     ]
    },
    {
     "name": "stderr",
     "output_type": "stream",
     "text": [
      "t:  69%|██████▉   | 871/1260 [01:09<00:30, 12.85it/s, now=None]"
     ]
    },
    {
     "name": "stdout",
     "output_type": "stream",
     "text": [
      "In process_image2\n",
      "In process_image2\n",
      "In process_image2\n"
     ]
    },
    {
     "name": "stderr",
     "output_type": "stream",
     "text": [
      "\r",
      "t:  69%|██████▉   | 873/1260 [01:09<00:30, 12.86it/s, now=None]"
     ]
    },
    {
     "name": "stdout",
     "output_type": "stream",
     "text": [
      "In process_image2\n",
      "In process_image2\n",
      "In process_image2\n"
     ]
    },
    {
     "name": "stderr",
     "output_type": "stream",
     "text": [
      "t:  70%|██████▉   | 877/1260 [01:10<00:29, 12.78it/s, now=None]"
     ]
    },
    {
     "name": "stdout",
     "output_type": "stream",
     "text": [
      "In process_image2\n",
      "In process_image2\n",
      "In process_image2\n"
     ]
    },
    {
     "name": "stderr",
     "output_type": "stream",
     "text": [
      "\r",
      "t:  70%|██████▉   | 879/1260 [01:10<00:30, 12.47it/s, now=None]"
     ]
    },
    {
     "name": "stdout",
     "output_type": "stream",
     "text": [
      "In process_image2\n",
      "In process_image2\n",
      "In process_image2\n"
     ]
    },
    {
     "name": "stderr",
     "output_type": "stream",
     "text": [
      "t:  70%|███████   | 883/1260 [01:10<00:29, 12.86it/s, now=None]"
     ]
    },
    {
     "name": "stdout",
     "output_type": "stream",
     "text": [
      "In process_image2\n",
      "In process_image2\n",
      "In process_image2\n"
     ]
    },
    {
     "name": "stderr",
     "output_type": "stream",
     "text": [
      "\r",
      "t:  70%|███████   | 885/1260 [01:10<00:29, 12.79it/s, now=None]"
     ]
    },
    {
     "name": "stdout",
     "output_type": "stream",
     "text": [
      "In process_image2\n",
      "In process_image2\n",
      "In process_image2\n"
     ]
    },
    {
     "name": "stderr",
     "output_type": "stream",
     "text": [
      "t:  71%|███████   | 889/1260 [01:11<00:29, 12.65it/s, now=None]"
     ]
    },
    {
     "name": "stdout",
     "output_type": "stream",
     "text": [
      "In process_image2\n",
      "In process_image2\n",
      "In process_image2\n"
     ]
    },
    {
     "name": "stderr",
     "output_type": "stream",
     "text": [
      "\r",
      "t:  71%|███████   | 891/1260 [01:11<00:28, 12.76it/s, now=None]"
     ]
    },
    {
     "name": "stdout",
     "output_type": "stream",
     "text": [
      "In process_image2\n",
      "In process_image2\n",
      "In process_image2\n"
     ]
    },
    {
     "name": "stderr",
     "output_type": "stream",
     "text": [
      "t:  71%|███████   | 895/1260 [01:11<00:29, 12.29it/s, now=None]"
     ]
    },
    {
     "name": "stdout",
     "output_type": "stream",
     "text": [
      "In process_image2\n",
      "In process_image2\n",
      "In process_image2\n"
     ]
    },
    {
     "name": "stderr",
     "output_type": "stream",
     "text": [
      "\r",
      "t:  71%|███████   | 897/1260 [01:11<00:30, 12.09it/s, now=None]"
     ]
    },
    {
     "name": "stdout",
     "output_type": "stream",
     "text": [
      "In process_image2\n",
      "In process_image2\n",
      "In process_image2\n"
     ]
    },
    {
     "name": "stderr",
     "output_type": "stream",
     "text": [
      "t:  72%|███████▏  | 901/1260 [01:12<00:29, 12.16it/s, now=None]"
     ]
    },
    {
     "name": "stdout",
     "output_type": "stream",
     "text": [
      "In process_image2\n",
      "In process_image2\n",
      "In process_image2\n"
     ]
    },
    {
     "name": "stderr",
     "output_type": "stream",
     "text": [
      "\r",
      "t:  72%|███████▏  | 903/1260 [01:12<00:29, 12.30it/s, now=None]"
     ]
    },
    {
     "name": "stdout",
     "output_type": "stream",
     "text": [
      "In process_image2\n",
      "In process_image2\n",
      "In process_image2\n"
     ]
    },
    {
     "name": "stderr",
     "output_type": "stream",
     "text": [
      "t:  72%|███████▏  | 907/1260 [01:12<00:28, 12.24it/s, now=None]"
     ]
    },
    {
     "name": "stdout",
     "output_type": "stream",
     "text": [
      "In process_image2\n",
      "In process_image2\n",
      "In process_image2\n"
     ]
    },
    {
     "name": "stderr",
     "output_type": "stream",
     "text": [
      "\r",
      "t:  72%|███████▏  | 909/1260 [01:12<00:29, 12.02it/s, now=None]"
     ]
    },
    {
     "name": "stdout",
     "output_type": "stream",
     "text": [
      "In process_image2\n",
      "In process_image2\n",
      "In process_image2\n"
     ]
    },
    {
     "name": "stderr",
     "output_type": "stream",
     "text": [
      "t:  72%|███████▏  | 913/1260 [01:13<00:28, 12.31it/s, now=None]"
     ]
    },
    {
     "name": "stdout",
     "output_type": "stream",
     "text": [
      "In process_image2\n",
      "In process_image2\n",
      "In process_image2\n"
     ]
    },
    {
     "name": "stderr",
     "output_type": "stream",
     "text": [
      "\r",
      "t:  73%|███████▎  | 915/1260 [01:13<00:27, 12.49it/s, now=None]"
     ]
    },
    {
     "name": "stdout",
     "output_type": "stream",
     "text": [
      "In process_image2\n",
      "In process_image2\n",
      "In process_image2\n"
     ]
    },
    {
     "name": "stderr",
     "output_type": "stream",
     "text": [
      "t:  73%|███████▎  | 919/1260 [01:13<00:27, 12.55it/s, now=None]"
     ]
    },
    {
     "name": "stdout",
     "output_type": "stream",
     "text": [
      "In process_image2\n",
      "In process_image2\n",
      "In process_image2\n"
     ]
    },
    {
     "name": "stderr",
     "output_type": "stream",
     "text": [
      "\r",
      "t:  73%|███████▎  | 921/1260 [01:13<00:26, 12.68it/s, now=None]"
     ]
    },
    {
     "name": "stdout",
     "output_type": "stream",
     "text": [
      "In process_image2\n",
      "In process_image2\n",
      "In process_image2\n"
     ]
    },
    {
     "name": "stderr",
     "output_type": "stream",
     "text": [
      "t:  73%|███████▎  | 925/1260 [01:14<00:26, 12.45it/s, now=None]"
     ]
    },
    {
     "name": "stdout",
     "output_type": "stream",
     "text": [
      "In process_image2\n",
      "In process_image2\n",
      "In process_image2\n"
     ]
    },
    {
     "name": "stderr",
     "output_type": "stream",
     "text": [
      "\r",
      "t:  74%|███████▎  | 927/1260 [01:14<00:26, 12.49it/s, now=None]"
     ]
    },
    {
     "name": "stdout",
     "output_type": "stream",
     "text": [
      "In process_image2\n",
      "In process_image2\n",
      "In process_image2\n"
     ]
    },
    {
     "name": "stderr",
     "output_type": "stream",
     "text": [
      "t:  74%|███████▍  | 931/1260 [01:14<00:26, 12.61it/s, now=None]"
     ]
    },
    {
     "name": "stdout",
     "output_type": "stream",
     "text": [
      "In process_image2\n",
      "In process_image2\n",
      "In process_image2\n"
     ]
    },
    {
     "name": "stderr",
     "output_type": "stream",
     "text": [
      "\r",
      "t:  74%|███████▍  | 933/1260 [01:14<00:26, 12.45it/s, now=None]"
     ]
    },
    {
     "name": "stdout",
     "output_type": "stream",
     "text": [
      "In process_image2\n",
      "In process_image2\n",
      "In process_image2\n"
     ]
    },
    {
     "name": "stderr",
     "output_type": "stream",
     "text": [
      "t:  74%|███████▍  | 937/1260 [01:14<00:26, 12.40it/s, now=None]"
     ]
    },
    {
     "name": "stdout",
     "output_type": "stream",
     "text": [
      "In process_image2\n",
      "In process_image2\n",
      "In process_image2\n"
     ]
    },
    {
     "name": "stderr",
     "output_type": "stream",
     "text": [
      "\r",
      "t:  75%|███████▍  | 939/1260 [01:15<00:25, 12.49it/s, now=None]"
     ]
    },
    {
     "name": "stdout",
     "output_type": "stream",
     "text": [
      "In process_image2\n",
      "In process_image2\n",
      "In process_image2\n"
     ]
    },
    {
     "name": "stderr",
     "output_type": "stream",
     "text": [
      "t:  75%|███████▍  | 943/1260 [01:15<00:26, 12.00it/s, now=None]"
     ]
    },
    {
     "name": "stdout",
     "output_type": "stream",
     "text": [
      "In process_image2\n",
      "In process_image2\n",
      "In process_image2\n"
     ]
    },
    {
     "name": "stderr",
     "output_type": "stream",
     "text": [
      "\r",
      "t:  75%|███████▌  | 945/1260 [01:15<00:26, 12.08it/s, now=None]"
     ]
    },
    {
     "name": "stdout",
     "output_type": "stream",
     "text": [
      "In process_image2\n",
      "In process_image2\n",
      "In process_image2\n"
     ]
    },
    {
     "name": "stderr",
     "output_type": "stream",
     "text": [
      "t:  75%|███████▌  | 949/1260 [01:15<00:26, 11.56it/s, now=None]"
     ]
    },
    {
     "name": "stdout",
     "output_type": "stream",
     "text": [
      "In process_image2\n",
      "In process_image2\n",
      "In process_image2\n"
     ]
    },
    {
     "name": "stderr",
     "output_type": "stream",
     "text": [
      "\r",
      "t:  75%|███████▌  | 951/1260 [01:16<00:26, 11.81it/s, now=None]"
     ]
    },
    {
     "name": "stdout",
     "output_type": "stream",
     "text": [
      "In process_image2\n",
      "In process_image2\n",
      "In process_image2\n"
     ]
    },
    {
     "name": "stderr",
     "output_type": "stream",
     "text": [
      "t:  76%|███████▌  | 955/1260 [01:16<00:25, 12.03it/s, now=None]"
     ]
    },
    {
     "name": "stdout",
     "output_type": "stream",
     "text": [
      "In process_image2\n",
      "In process_image2\n",
      "In process_image2\n"
     ]
    },
    {
     "name": "stderr",
     "output_type": "stream",
     "text": [
      "\r",
      "t:  76%|███████▌  | 957/1260 [01:16<00:24, 12.21it/s, now=None]"
     ]
    },
    {
     "name": "stdout",
     "output_type": "stream",
     "text": [
      "In process_image2\n",
      "In process_image2\n",
      "In process_image2\n"
     ]
    },
    {
     "name": "stderr",
     "output_type": "stream",
     "text": [
      "t:  76%|███████▋  | 961/1260 [01:16<00:24, 12.38it/s, now=None]"
     ]
    },
    {
     "name": "stdout",
     "output_type": "stream",
     "text": [
      "In process_image2\n",
      "In process_image2\n",
      "In process_image2\n"
     ]
    },
    {
     "name": "stderr",
     "output_type": "stream",
     "text": [
      "\r",
      "t:  76%|███████▋  | 963/1260 [01:17<00:24, 11.95it/s, now=None]"
     ]
    },
    {
     "name": "stdout",
     "output_type": "stream",
     "text": [
      "In process_image2\n",
      "In process_image2\n",
      "In process_image2\n"
     ]
    },
    {
     "name": "stderr",
     "output_type": "stream",
     "text": [
      "t:  77%|███████▋  | 967/1260 [01:17<00:24, 12.10it/s, now=None]"
     ]
    },
    {
     "name": "stdout",
     "output_type": "stream",
     "text": [
      "In process_image2\n",
      "In process_image2\n",
      "In process_image2\n"
     ]
    },
    {
     "name": "stderr",
     "output_type": "stream",
     "text": [
      "\r",
      "t:  77%|███████▋  | 969/1260 [01:17<00:23, 12.20it/s, now=None]"
     ]
    },
    {
     "name": "stdout",
     "output_type": "stream",
     "text": [
      "In process_image2\n",
      "In process_image2\n",
      "In process_image2\n"
     ]
    },
    {
     "name": "stderr",
     "output_type": "stream",
     "text": [
      "t:  77%|███████▋  | 973/1260 [01:17<00:22, 12.68it/s, now=None]"
     ]
    },
    {
     "name": "stdout",
     "output_type": "stream",
     "text": [
      "In process_image2\n",
      "In process_image2\n",
      "In process_image2\n"
     ]
    },
    {
     "name": "stderr",
     "output_type": "stream",
     "text": [
      "\r",
      "t:  77%|███████▋  | 975/1260 [01:18<00:22, 12.91it/s, now=None]"
     ]
    },
    {
     "name": "stdout",
     "output_type": "stream",
     "text": [
      "In process_image2\n",
      "In process_image2\n",
      "In process_image2\n"
     ]
    },
    {
     "name": "stderr",
     "output_type": "stream",
     "text": [
      "t:  78%|███████▊  | 979/1260 [01:18<00:21, 12.88it/s, now=None]"
     ]
    },
    {
     "name": "stdout",
     "output_type": "stream",
     "text": [
      "In process_image2\n",
      "In process_image2\n",
      "In process_image2\n"
     ]
    },
    {
     "name": "stderr",
     "output_type": "stream",
     "text": [
      "\r",
      "t:  78%|███████▊  | 981/1260 [01:18<00:21, 12.85it/s, now=None]"
     ]
    },
    {
     "name": "stdout",
     "output_type": "stream",
     "text": [
      "In process_image2\n",
      "In process_image2\n",
      "In process_image2\n"
     ]
    },
    {
     "name": "stderr",
     "output_type": "stream",
     "text": [
      "t:  78%|███████▊  | 985/1260 [01:18<00:20, 13.15it/s, now=None]"
     ]
    },
    {
     "name": "stdout",
     "output_type": "stream",
     "text": [
      "In process_image2\n",
      "In process_image2\n",
      "In process_image2\n"
     ]
    },
    {
     "name": "stderr",
     "output_type": "stream",
     "text": [
      "\r",
      "t:  78%|███████▊  | 987/1260 [01:19<00:21, 12.90it/s, now=None]"
     ]
    },
    {
     "name": "stdout",
     "output_type": "stream",
     "text": [
      "In process_image2\n",
      "In process_image2\n",
      "In process_image2\n"
     ]
    },
    {
     "name": "stderr",
     "output_type": "stream",
     "text": [
      "t:  79%|███████▊  | 991/1260 [01:19<00:21, 12.59it/s, now=None]"
     ]
    },
    {
     "name": "stdout",
     "output_type": "stream",
     "text": [
      "In process_image2\n",
      "In process_image2\n",
      "In process_image2\n"
     ]
    },
    {
     "name": "stderr",
     "output_type": "stream",
     "text": [
      "\r",
      "t:  79%|███████▉  | 993/1260 [01:19<00:21, 12.50it/s, now=None]"
     ]
    },
    {
     "name": "stdout",
     "output_type": "stream",
     "text": [
      "In process_image2\n",
      "In process_image2\n",
      "In process_image2\n"
     ]
    },
    {
     "name": "stderr",
     "output_type": "stream",
     "text": [
      "t:  79%|███████▉  | 997/1260 [01:19<00:20, 12.77it/s, now=None]"
     ]
    },
    {
     "name": "stdout",
     "output_type": "stream",
     "text": [
      "In process_image2\n",
      "In process_image2\n",
      "In process_image2\n"
     ]
    },
    {
     "name": "stderr",
     "output_type": "stream",
     "text": [
      "\r",
      "t:  79%|███████▉  | 999/1260 [01:19<00:20, 12.83it/s, now=None]"
     ]
    },
    {
     "name": "stdout",
     "output_type": "stream",
     "text": [
      "In process_image2\n",
      "In process_image2\n",
      "In process_image2\n"
     ]
    },
    {
     "name": "stderr",
     "output_type": "stream",
     "text": [
      "t:  80%|███████▉  | 1003/1260 [01:20<00:19, 12.86it/s, now=None]"
     ]
    },
    {
     "name": "stdout",
     "output_type": "stream",
     "text": [
      "In process_image2\n",
      "In process_image2\n",
      "In process_image2\n"
     ]
    },
    {
     "name": "stderr",
     "output_type": "stream",
     "text": [
      "\r",
      "t:  80%|███████▉  | 1005/1260 [01:20<00:19, 12.76it/s, now=None]"
     ]
    },
    {
     "name": "stdout",
     "output_type": "stream",
     "text": [
      "In process_image2\n",
      "In process_image2\n",
      "In process_image2\n"
     ]
    },
    {
     "name": "stderr",
     "output_type": "stream",
     "text": [
      "t:  80%|████████  | 1009/1260 [01:20<00:19, 12.60it/s, now=None]"
     ]
    },
    {
     "name": "stdout",
     "output_type": "stream",
     "text": [
      "In process_image2\n",
      "In process_image2\n",
      "In process_image2\n"
     ]
    },
    {
     "name": "stderr",
     "output_type": "stream",
     "text": [
      "\r",
      "t:  80%|████████  | 1011/1260 [01:20<00:20, 12.26it/s, now=None]"
     ]
    },
    {
     "name": "stdout",
     "output_type": "stream",
     "text": [
      "In process_image2\n",
      "In process_image2\n",
      "In process_image2\n"
     ]
    },
    {
     "name": "stderr",
     "output_type": "stream",
     "text": [
      "t:  81%|████████  | 1015/1260 [01:21<00:20, 12.01it/s, now=None]"
     ]
    },
    {
     "name": "stdout",
     "output_type": "stream",
     "text": [
      "In process_image2\n",
      "In process_image2\n",
      "In process_image2\n"
     ]
    },
    {
     "name": "stderr",
     "output_type": "stream",
     "text": [
      "\r",
      "t:  81%|████████  | 1017/1260 [01:21<00:20, 12.04it/s, now=None]"
     ]
    },
    {
     "name": "stdout",
     "output_type": "stream",
     "text": [
      "In process_image2\n",
      "In process_image2\n",
      "In process_image2\n"
     ]
    },
    {
     "name": "stderr",
     "output_type": "stream",
     "text": [
      "t:  81%|████████  | 1021/1260 [01:21<00:18, 12.64it/s, now=None]"
     ]
    },
    {
     "name": "stdout",
     "output_type": "stream",
     "text": [
      "In process_image2\n",
      "In process_image2\n",
      "In process_image2\n"
     ]
    },
    {
     "name": "stderr",
     "output_type": "stream",
     "text": [
      "\r",
      "t:  81%|████████  | 1023/1260 [01:21<00:18, 12.97it/s, now=None]"
     ]
    },
    {
     "name": "stdout",
     "output_type": "stream",
     "text": [
      "In process_image2\n",
      "In process_image2\n",
      "In process_image2\n"
     ]
    },
    {
     "name": "stderr",
     "output_type": "stream",
     "text": [
      "t:  82%|████████▏ | 1027/1260 [01:22<00:17, 13.11it/s, now=None]"
     ]
    },
    {
     "name": "stdout",
     "output_type": "stream",
     "text": [
      "In process_image2\n",
      "In process_image2\n",
      "In process_image2\n"
     ]
    },
    {
     "name": "stderr",
     "output_type": "stream",
     "text": [
      "\r",
      "t:  82%|████████▏ | 1029/1260 [01:22<00:17, 13.10it/s, now=None]"
     ]
    },
    {
     "name": "stdout",
     "output_type": "stream",
     "text": [
      "In process_image2\n",
      "In process_image2\n",
      "In process_image2\n"
     ]
    },
    {
     "name": "stderr",
     "output_type": "stream",
     "text": [
      "t:  82%|████████▏ | 1033/1260 [01:22<00:17, 13.10it/s, now=None]"
     ]
    },
    {
     "name": "stdout",
     "output_type": "stream",
     "text": [
      "In process_image2\n",
      "In process_image2\n",
      "In process_image2\n"
     ]
    },
    {
     "name": "stderr",
     "output_type": "stream",
     "text": [
      "\r",
      "t:  82%|████████▏ | 1035/1260 [01:22<00:17, 12.66it/s, now=None]"
     ]
    },
    {
     "name": "stdout",
     "output_type": "stream",
     "text": [
      "In process_image2\n",
      "In process_image2\n",
      "In process_image2\n"
     ]
    },
    {
     "name": "stderr",
     "output_type": "stream",
     "text": [
      "t:  82%|████████▏ | 1039/1260 [01:23<00:17, 12.86it/s, now=None]"
     ]
    },
    {
     "name": "stdout",
     "output_type": "stream",
     "text": [
      "In process_image2\n",
      "In process_image2\n",
      "In process_image2\n"
     ]
    },
    {
     "name": "stderr",
     "output_type": "stream",
     "text": [
      "\r",
      "t:  83%|████████▎ | 1041/1260 [01:23<00:17, 12.86it/s, now=None]"
     ]
    },
    {
     "name": "stdout",
     "output_type": "stream",
     "text": [
      "In process_image2\n",
      "In process_image2\n",
      "In process_image2\n"
     ]
    },
    {
     "name": "stderr",
     "output_type": "stream",
     "text": [
      "t:  83%|████████▎ | 1045/1260 [01:23<00:16, 12.80it/s, now=None]"
     ]
    },
    {
     "name": "stdout",
     "output_type": "stream",
     "text": [
      "In process_image2\n",
      "In process_image2\n",
      "In process_image2\n"
     ]
    },
    {
     "name": "stderr",
     "output_type": "stream",
     "text": [
      "\r",
      "t:  83%|████████▎ | 1047/1260 [01:23<00:16, 12.78it/s, now=None]"
     ]
    },
    {
     "name": "stdout",
     "output_type": "stream",
     "text": [
      "In process_image2\n",
      "In process_image2\n",
      "In process_image2\n"
     ]
    },
    {
     "name": "stderr",
     "output_type": "stream",
     "text": [
      "t:  83%|████████▎ | 1051/1260 [01:24<00:16, 12.76it/s, now=None]"
     ]
    },
    {
     "name": "stdout",
     "output_type": "stream",
     "text": [
      "In process_image2\n",
      "In process_image2\n",
      "In process_image2\n"
     ]
    },
    {
     "name": "stderr",
     "output_type": "stream",
     "text": [
      "\r",
      "t:  84%|████████▎ | 1053/1260 [01:24<00:16, 12.64it/s, now=None]"
     ]
    },
    {
     "name": "stdout",
     "output_type": "stream",
     "text": [
      "In process_image2\n",
      "In process_image2\n",
      "In process_image2\n"
     ]
    },
    {
     "name": "stderr",
     "output_type": "stream",
     "text": [
      "t:  84%|████████▍ | 1057/1260 [01:24<00:15, 12.75it/s, now=None]"
     ]
    },
    {
     "name": "stdout",
     "output_type": "stream",
     "text": [
      "In process_image2\n",
      "In process_image2\n",
      "In process_image2\n"
     ]
    },
    {
     "name": "stderr",
     "output_type": "stream",
     "text": [
      "\r",
      "t:  84%|████████▍ | 1059/1260 [01:24<00:15, 12.57it/s, now=None]"
     ]
    },
    {
     "name": "stdout",
     "output_type": "stream",
     "text": [
      "In process_image2\n",
      "In process_image2\n",
      "In process_image2\n"
     ]
    },
    {
     "name": "stderr",
     "output_type": "stream",
     "text": [
      "t:  84%|████████▍ | 1063/1260 [01:25<00:16, 12.27it/s, now=None]"
     ]
    },
    {
     "name": "stdout",
     "output_type": "stream",
     "text": [
      "In process_image2\n",
      "In process_image2\n",
      "In process_image2\n"
     ]
    },
    {
     "name": "stderr",
     "output_type": "stream",
     "text": [
      "\r",
      "t:  85%|████████▍ | 1065/1260 [01:25<00:15, 12.50it/s, now=None]"
     ]
    },
    {
     "name": "stdout",
     "output_type": "stream",
     "text": [
      "In process_image2\n",
      "In process_image2\n",
      "In process_image2\n"
     ]
    },
    {
     "name": "stderr",
     "output_type": "stream",
     "text": [
      "t:  85%|████████▍ | 1069/1260 [01:25<00:15, 12.20it/s, now=None]"
     ]
    },
    {
     "name": "stdout",
     "output_type": "stream",
     "text": [
      "In process_image2\n",
      "In process_image2\n",
      "In process_image2\n"
     ]
    },
    {
     "name": "stderr",
     "output_type": "stream",
     "text": [
      "\r",
      "t:  85%|████████▌ | 1071/1260 [01:25<00:15, 11.89it/s, now=None]"
     ]
    },
    {
     "name": "stdout",
     "output_type": "stream",
     "text": [
      "In process_image2\n",
      "In process_image2\n",
      "In process_image2\n"
     ]
    },
    {
     "name": "stderr",
     "output_type": "stream",
     "text": [
      "t:  85%|████████▌ | 1075/1260 [01:26<00:15, 11.74it/s, now=None]"
     ]
    },
    {
     "name": "stdout",
     "output_type": "stream",
     "text": [
      "In process_image2\n",
      "In process_image2\n",
      "In process_image2\n"
     ]
    },
    {
     "name": "stderr",
     "output_type": "stream",
     "text": [
      "\r",
      "t:  85%|████████▌ | 1077/1260 [01:26<00:15, 11.49it/s, now=None]"
     ]
    },
    {
     "name": "stdout",
     "output_type": "stream",
     "text": [
      "In process_image2\n",
      "In process_image2\n",
      "In process_image2\n"
     ]
    },
    {
     "name": "stderr",
     "output_type": "stream",
     "text": [
      "t:  86%|████████▌ | 1081/1260 [01:26<00:14, 12.02it/s, now=None]"
     ]
    },
    {
     "name": "stdout",
     "output_type": "stream",
     "text": [
      "In process_image2\n",
      "In process_image2\n",
      "In process_image2\n"
     ]
    },
    {
     "name": "stderr",
     "output_type": "stream",
     "text": [
      "\r",
      "t:  86%|████████▌ | 1083/1260 [01:26<00:15, 11.66it/s, now=None]"
     ]
    },
    {
     "name": "stdout",
     "output_type": "stream",
     "text": [
      "In process_image2\n",
      "In process_image2\n",
      "In process_image2\n"
     ]
    },
    {
     "name": "stderr",
     "output_type": "stream",
     "text": [
      "t:  86%|████████▋ | 1087/1260 [01:27<00:14, 12.29it/s, now=None]"
     ]
    },
    {
     "name": "stdout",
     "output_type": "stream",
     "text": [
      "In process_image2\n",
      "In process_image2\n",
      "In process_image2\n"
     ]
    },
    {
     "name": "stderr",
     "output_type": "stream",
     "text": [
      "\r",
      "t:  86%|████████▋ | 1089/1260 [01:27<00:13, 12.44it/s, now=None]"
     ]
    },
    {
     "name": "stdout",
     "output_type": "stream",
     "text": [
      "In process_image2\n",
      "In process_image2\n",
      "In process_image2\n"
     ]
    },
    {
     "name": "stderr",
     "output_type": "stream",
     "text": [
      "t:  87%|████████▋ | 1093/1260 [01:27<00:13, 12.53it/s, now=None]"
     ]
    },
    {
     "name": "stdout",
     "output_type": "stream",
     "text": [
      "In process_image2\n",
      "In process_image2\n",
      "In process_image2\n"
     ]
    },
    {
     "name": "stderr",
     "output_type": "stream",
     "text": [
      "\r",
      "t:  87%|████████▋ | 1095/1260 [01:27<00:13, 12.57it/s, now=None]"
     ]
    },
    {
     "name": "stdout",
     "output_type": "stream",
     "text": [
      "In process_image2\n",
      "In process_image2\n",
      "In process_image2\n"
     ]
    },
    {
     "name": "stderr",
     "output_type": "stream",
     "text": [
      "t:  87%|████████▋ | 1099/1260 [01:27<00:12, 12.82it/s, now=None]"
     ]
    },
    {
     "name": "stdout",
     "output_type": "stream",
     "text": [
      "In process_image2\n",
      "In process_image2\n",
      "In process_image2\n"
     ]
    },
    {
     "name": "stderr",
     "output_type": "stream",
     "text": [
      "\r",
      "t:  87%|████████▋ | 1101/1260 [01:28<00:12, 12.87it/s, now=None]"
     ]
    },
    {
     "name": "stdout",
     "output_type": "stream",
     "text": [
      "In process_image2\n",
      "In process_image2\n",
      "In process_image2\n"
     ]
    },
    {
     "name": "stderr",
     "output_type": "stream",
     "text": [
      "t:  88%|████████▊ | 1105/1260 [01:28<00:11, 13.03it/s, now=None]"
     ]
    },
    {
     "name": "stdout",
     "output_type": "stream",
     "text": [
      "In process_image2\n",
      "In process_image2\n",
      "In process_image2\n"
     ]
    },
    {
     "name": "stderr",
     "output_type": "stream",
     "text": [
      "\r",
      "t:  88%|████████▊ | 1107/1260 [01:28<00:11, 12.94it/s, now=None]"
     ]
    },
    {
     "name": "stdout",
     "output_type": "stream",
     "text": [
      "In process_image2\n",
      "In process_image2\n",
      "In process_image2\n"
     ]
    },
    {
     "name": "stderr",
     "output_type": "stream",
     "text": [
      "t:  88%|████████▊ | 1111/1260 [01:28<00:11, 13.11it/s, now=None]"
     ]
    },
    {
     "name": "stdout",
     "output_type": "stream",
     "text": [
      "In process_image2\n",
      "In process_image2\n",
      "In process_image2\n"
     ]
    },
    {
     "name": "stderr",
     "output_type": "stream",
     "text": [
      "\r",
      "t:  88%|████████▊ | 1113/1260 [01:29<00:11, 12.42it/s, now=None]"
     ]
    },
    {
     "name": "stdout",
     "output_type": "stream",
     "text": [
      "In process_image2\n",
      "In process_image2\n",
      "In process_image2\n"
     ]
    },
    {
     "name": "stderr",
     "output_type": "stream",
     "text": [
      "t:  89%|████████▊ | 1117/1260 [01:29<00:11, 12.75it/s, now=None]"
     ]
    },
    {
     "name": "stdout",
     "output_type": "stream",
     "text": [
      "In process_image2\n",
      "In process_image2\n",
      "In process_image2\n"
     ]
    },
    {
     "name": "stderr",
     "output_type": "stream",
     "text": [
      "\r",
      "t:  89%|████████▉ | 1119/1260 [01:29<00:11, 12.20it/s, now=None]"
     ]
    },
    {
     "name": "stdout",
     "output_type": "stream",
     "text": [
      "In process_image2\n",
      "In process_image2\n",
      "In process_image2\n"
     ]
    },
    {
     "name": "stderr",
     "output_type": "stream",
     "text": [
      "t:  89%|████████▉ | 1123/1260 [01:29<00:10, 12.46it/s, now=None]"
     ]
    },
    {
     "name": "stdout",
     "output_type": "stream",
     "text": [
      "In process_image2\n",
      "In process_image2\n",
      "In process_image2\n"
     ]
    },
    {
     "name": "stderr",
     "output_type": "stream",
     "text": [
      "\r",
      "t:  89%|████████▉ | 1125/1260 [01:30<00:11, 12.16it/s, now=None]"
     ]
    },
    {
     "name": "stdout",
     "output_type": "stream",
     "text": [
      "In process_image2\n",
      "In process_image2\n",
      "In process_image2\n"
     ]
    },
    {
     "name": "stderr",
     "output_type": "stream",
     "text": [
      "t:  90%|████████▉ | 1129/1260 [01:30<00:11, 11.73it/s, now=None]"
     ]
    },
    {
     "name": "stdout",
     "output_type": "stream",
     "text": [
      "In process_image2\n",
      "In process_image2\n",
      "In process_image2\n"
     ]
    },
    {
     "name": "stderr",
     "output_type": "stream",
     "text": [
      "\r",
      "t:  90%|████████▉ | 1131/1260 [01:30<00:11, 11.56it/s, now=None]"
     ]
    },
    {
     "name": "stdout",
     "output_type": "stream",
     "text": [
      "In process_image2\n",
      "In process_image2\n",
      "In process_image2\n"
     ]
    },
    {
     "name": "stderr",
     "output_type": "stream",
     "text": [
      "t:  90%|█████████ | 1135/1260 [01:30<00:10, 11.73it/s, now=None]"
     ]
    },
    {
     "name": "stdout",
     "output_type": "stream",
     "text": [
      "In process_image2\n",
      "In process_image2\n",
      "In process_image2\n"
     ]
    },
    {
     "name": "stderr",
     "output_type": "stream",
     "text": [
      "\r",
      "t:  90%|█████████ | 1137/1260 [01:31<00:10, 11.61it/s, now=None]"
     ]
    },
    {
     "name": "stdout",
     "output_type": "stream",
     "text": [
      "In process_image2\n",
      "In process_image2\n",
      "In process_image2\n"
     ]
    },
    {
     "name": "stderr",
     "output_type": "stream",
     "text": [
      "t:  91%|█████████ | 1141/1260 [01:31<00:10, 11.16it/s, now=None]"
     ]
    },
    {
     "name": "stdout",
     "output_type": "stream",
     "text": [
      "In process_image2\n",
      "In process_image2\n",
      "In process_image2\n",
      "In process_image2\n"
     ]
    },
    {
     "name": "stderr",
     "output_type": "stream",
     "text": [
      "\r",
      "t:  91%|█████████ | 1143/1260 [01:31<00:11, 10.10it/s, now=None]"
     ]
    },
    {
     "name": "stdout",
     "output_type": "stream",
     "text": [
      "In process_image2\n",
      "In process_image2\n"
     ]
    },
    {
     "name": "stderr",
     "output_type": "stream",
     "text": [
      "\r",
      "t:  91%|█████████ | 1145/1260 [01:31<00:11,  9.87it/s, now=None]"
     ]
    },
    {
     "name": "stdout",
     "output_type": "stream",
     "text": [
      "In process_image2\n",
      "In process_image2\n"
     ]
    },
    {
     "name": "stderr",
     "output_type": "stream",
     "text": [
      "t:  91%|█████████ | 1148/1260 [01:32<00:11,  9.69it/s, now=None]"
     ]
    },
    {
     "name": "stdout",
     "output_type": "stream",
     "text": [
      "In process_image2\n",
      "In process_image2\n",
      "In process_image2\n"
     ]
    },
    {
     "name": "stderr",
     "output_type": "stream",
     "text": [
      "t:  91%|█████████▏| 1152/1260 [01:32<00:09, 10.93it/s, now=None]"
     ]
    },
    {
     "name": "stdout",
     "output_type": "stream",
     "text": [
      "In process_image2\n",
      "In process_image2\n",
      "In process_image2\n"
     ]
    },
    {
     "name": "stderr",
     "output_type": "stream",
     "text": [
      "\r",
      "t:  92%|█████████▏| 1154/1260 [01:32<00:09, 11.25it/s, now=None]"
     ]
    },
    {
     "name": "stdout",
     "output_type": "stream",
     "text": [
      "In process_image2\n",
      "In process_image2\n",
      "In process_image2\n"
     ]
    },
    {
     "name": "stderr",
     "output_type": "stream",
     "text": [
      "t:  92%|█████████▏| 1158/1260 [01:33<00:09, 11.19it/s, now=None]"
     ]
    },
    {
     "name": "stdout",
     "output_type": "stream",
     "text": [
      "In process_image2\n",
      "In process_image2\n",
      "In process_image2\n"
     ]
    },
    {
     "name": "stderr",
     "output_type": "stream",
     "text": [
      "\r",
      "t:  92%|█████████▏| 1160/1260 [01:33<00:09, 10.94it/s, now=None]"
     ]
    },
    {
     "name": "stdout",
     "output_type": "stream",
     "text": [
      "In process_image2\n",
      "In process_image2\n",
      "In process_image2\n"
     ]
    },
    {
     "name": "stderr",
     "output_type": "stream",
     "text": [
      "t:  92%|█████████▏| 1164/1260 [01:33<00:08, 11.61it/s, now=None]"
     ]
    },
    {
     "name": "stdout",
     "output_type": "stream",
     "text": [
      "In process_image2\n",
      "In process_image2\n",
      "In process_image2\n"
     ]
    },
    {
     "name": "stderr",
     "output_type": "stream",
     "text": [
      "\r",
      "t:  93%|█████████▎| 1166/1260 [01:33<00:07, 11.82it/s, now=None]"
     ]
    },
    {
     "name": "stdout",
     "output_type": "stream",
     "text": [
      "In process_image2\n",
      "In process_image2\n",
      "In process_image2\n"
     ]
    },
    {
     "name": "stderr",
     "output_type": "stream",
     "text": [
      "t:  93%|█████████▎| 1170/1260 [01:34<00:07, 11.63it/s, now=None]"
     ]
    },
    {
     "name": "stdout",
     "output_type": "stream",
     "text": [
      "In process_image2\n",
      "In process_image2\n",
      "In process_image2\n"
     ]
    },
    {
     "name": "stderr",
     "output_type": "stream",
     "text": [
      "\r",
      "t:  93%|█████████▎| 1172/1260 [01:34<00:07, 11.81it/s, now=None]"
     ]
    },
    {
     "name": "stdout",
     "output_type": "stream",
     "text": [
      "In process_image2\n",
      "In process_image2\n",
      "In process_image2\n"
     ]
    },
    {
     "name": "stderr",
     "output_type": "stream",
     "text": [
      "t:  93%|█████████▎| 1176/1260 [01:34<00:06, 12.30it/s, now=None]"
     ]
    },
    {
     "name": "stdout",
     "output_type": "stream",
     "text": [
      "In process_image2\n",
      "In process_image2\n",
      "In process_image2\n"
     ]
    },
    {
     "name": "stderr",
     "output_type": "stream",
     "text": [
      "\r",
      "t:  93%|█████████▎| 1178/1260 [01:34<00:06, 12.11it/s, now=None]"
     ]
    },
    {
     "name": "stdout",
     "output_type": "stream",
     "text": [
      "In process_image2\n",
      "In process_image2\n",
      "In process_image2\n"
     ]
    },
    {
     "name": "stderr",
     "output_type": "stream",
     "text": [
      "t:  94%|█████████▍| 1182/1260 [01:35<00:06, 12.39it/s, now=None]"
     ]
    },
    {
     "name": "stdout",
     "output_type": "stream",
     "text": [
      "In process_image2\n",
      "In process_image2\n",
      "In process_image2\n"
     ]
    },
    {
     "name": "stderr",
     "output_type": "stream",
     "text": [
      "\r",
      "t:  94%|█████████▍| 1184/1260 [01:35<00:06, 12.56it/s, now=None]"
     ]
    },
    {
     "name": "stdout",
     "output_type": "stream",
     "text": [
      "In process_image2\n",
      "In process_image2\n",
      "In process_image2\n"
     ]
    },
    {
     "name": "stderr",
     "output_type": "stream",
     "text": [
      "t:  94%|█████████▍| 1188/1260 [01:35<00:05, 12.78it/s, now=None]"
     ]
    },
    {
     "name": "stdout",
     "output_type": "stream",
     "text": [
      "In process_image2\n",
      "In process_image2\n",
      "In process_image2\n"
     ]
    },
    {
     "name": "stderr",
     "output_type": "stream",
     "text": [
      "\r",
      "t:  94%|█████████▍| 1190/1260 [01:35<00:05, 12.37it/s, now=None]"
     ]
    },
    {
     "name": "stdout",
     "output_type": "stream",
     "text": [
      "In process_image2\n",
      "In process_image2\n",
      "In process_image2\n"
     ]
    },
    {
     "name": "stderr",
     "output_type": "stream",
     "text": [
      "t:  95%|█████████▍| 1194/1260 [01:36<00:05, 12.74it/s, now=None]"
     ]
    },
    {
     "name": "stdout",
     "output_type": "stream",
     "text": [
      "In process_image2\n",
      "In process_image2\n",
      "In process_image2\n"
     ]
    },
    {
     "name": "stderr",
     "output_type": "stream",
     "text": [
      "\r",
      "t:  95%|█████████▍| 1196/1260 [01:36<00:04, 12.91it/s, now=None]"
     ]
    },
    {
     "name": "stdout",
     "output_type": "stream",
     "text": [
      "In process_image2\n",
      "In process_image2\n",
      "In process_image2\n"
     ]
    },
    {
     "name": "stderr",
     "output_type": "stream",
     "text": [
      "t:  95%|█████████▌| 1200/1260 [01:36<00:04, 12.62it/s, now=None]"
     ]
    },
    {
     "name": "stdout",
     "output_type": "stream",
     "text": [
      "In process_image2\n",
      "In process_image2\n",
      "In process_image2\n"
     ]
    },
    {
     "name": "stderr",
     "output_type": "stream",
     "text": [
      "\r",
      "t:  95%|█████████▌| 1202/1260 [01:36<00:04, 12.79it/s, now=None]"
     ]
    },
    {
     "name": "stdout",
     "output_type": "stream",
     "text": [
      "In process_image2\n",
      "In process_image2\n",
      "In process_image2\n"
     ]
    },
    {
     "name": "stderr",
     "output_type": "stream",
     "text": [
      "t:  96%|█████████▌| 1206/1260 [01:36<00:04, 12.95it/s, now=None]"
     ]
    },
    {
     "name": "stdout",
     "output_type": "stream",
     "text": [
      "In process_image2\n",
      "In process_image2\n",
      "In process_image2\n"
     ]
    },
    {
     "name": "stderr",
     "output_type": "stream",
     "text": [
      "\r",
      "t:  96%|█████████▌| 1208/1260 [01:37<00:04, 12.90it/s, now=None]"
     ]
    },
    {
     "name": "stdout",
     "output_type": "stream",
     "text": [
      "In process_image2\n",
      "In process_image2\n",
      "In process_image2\n"
     ]
    },
    {
     "name": "stderr",
     "output_type": "stream",
     "text": [
      "t:  96%|█████████▌| 1212/1260 [01:37<00:03, 12.55it/s, now=None]"
     ]
    },
    {
     "name": "stdout",
     "output_type": "stream",
     "text": [
      "In process_image2\n",
      "In process_image2\n",
      "In process_image2\n"
     ]
    },
    {
     "name": "stderr",
     "output_type": "stream",
     "text": [
      "\r",
      "t:  96%|█████████▋| 1214/1260 [01:37<00:03, 12.57it/s, now=None]"
     ]
    },
    {
     "name": "stdout",
     "output_type": "stream",
     "text": [
      "In process_image2\n",
      "In process_image2\n",
      "In process_image2\n"
     ]
    },
    {
     "name": "stderr",
     "output_type": "stream",
     "text": [
      "t:  97%|█████████▋| 1218/1260 [01:37<00:03, 11.70it/s, now=None]"
     ]
    },
    {
     "name": "stdout",
     "output_type": "stream",
     "text": [
      "In process_image2\n",
      "In process_image2\n",
      "In process_image2\n"
     ]
    },
    {
     "name": "stderr",
     "output_type": "stream",
     "text": [
      "\r",
      "t:  97%|█████████▋| 1220/1260 [01:38<00:03, 11.43it/s, now=None]"
     ]
    },
    {
     "name": "stdout",
     "output_type": "stream",
     "text": [
      "In process_image2\n",
      "In process_image2\n",
      "In process_image2\n"
     ]
    },
    {
     "name": "stderr",
     "output_type": "stream",
     "text": [
      "t:  97%|█████████▋| 1224/1260 [01:38<00:03, 11.85it/s, now=None]"
     ]
    },
    {
     "name": "stdout",
     "output_type": "stream",
     "text": [
      "In process_image2\n",
      "In process_image2\n",
      "In process_image2\n"
     ]
    },
    {
     "name": "stderr",
     "output_type": "stream",
     "text": [
      "\r",
      "t:  97%|█████████▋| 1226/1260 [01:38<00:02, 12.15it/s, now=None]"
     ]
    },
    {
     "name": "stdout",
     "output_type": "stream",
     "text": [
      "In process_image2\n",
      "In process_image2\n",
      "In process_image2\n"
     ]
    },
    {
     "name": "stderr",
     "output_type": "stream",
     "text": [
      "t:  98%|█████████▊| 1230/1260 [01:38<00:02, 11.98it/s, now=None]"
     ]
    },
    {
     "name": "stdout",
     "output_type": "stream",
     "text": [
      "In process_image2\n",
      "In process_image2\n",
      "In process_image2\n"
     ]
    },
    {
     "name": "stderr",
     "output_type": "stream",
     "text": [
      "\r",
      "t:  98%|█████████▊| 1232/1260 [01:39<00:02, 11.87it/s, now=None]"
     ]
    },
    {
     "name": "stdout",
     "output_type": "stream",
     "text": [
      "In process_image2\n",
      "In process_image2\n",
      "In process_image2\n"
     ]
    },
    {
     "name": "stderr",
     "output_type": "stream",
     "text": [
      "t:  98%|█████████▊| 1236/1260 [01:39<00:02, 11.91it/s, now=None]"
     ]
    },
    {
     "name": "stdout",
     "output_type": "stream",
     "text": [
      "In process_image2\n",
      "In process_image2\n",
      "In process_image2\n"
     ]
    },
    {
     "name": "stderr",
     "output_type": "stream",
     "text": [
      "\r",
      "t:  98%|█████████▊| 1238/1260 [01:39<00:01, 12.01it/s, now=None]"
     ]
    },
    {
     "name": "stdout",
     "output_type": "stream",
     "text": [
      "In process_image2\n",
      "In process_image2\n",
      "In process_image2\n"
     ]
    },
    {
     "name": "stderr",
     "output_type": "stream",
     "text": [
      "t:  99%|█████████▊| 1242/1260 [01:39<00:01, 11.59it/s, now=None]"
     ]
    },
    {
     "name": "stdout",
     "output_type": "stream",
     "text": [
      "In process_image2\n",
      "In process_image2\n",
      "In process_image2\n"
     ]
    },
    {
     "name": "stderr",
     "output_type": "stream",
     "text": [
      "\r",
      "t:  99%|█████████▊| 1244/1260 [01:40<00:01, 11.43it/s, now=None]"
     ]
    },
    {
     "name": "stdout",
     "output_type": "stream",
     "text": [
      "In process_image2\n",
      "In process_image2\n",
      "In process_image2\n"
     ]
    },
    {
     "name": "stderr",
     "output_type": "stream",
     "text": [
      "t:  99%|█████████▉| 1248/1260 [01:40<00:01, 11.90it/s, now=None]"
     ]
    },
    {
     "name": "stdout",
     "output_type": "stream",
     "text": [
      "In process_image2\n",
      "In process_image2\n",
      "In process_image2\n"
     ]
    },
    {
     "name": "stderr",
     "output_type": "stream",
     "text": [
      "\r",
      "t:  99%|█████████▉| 1250/1260 [01:40<00:00, 12.14it/s, now=None]"
     ]
    },
    {
     "name": "stdout",
     "output_type": "stream",
     "text": [
      "In process_image2\n",
      "In process_image2\n",
      "In process_image2\n"
     ]
    },
    {
     "name": "stderr",
     "output_type": "stream",
     "text": [
      "t: 100%|█████████▉| 1254/1260 [01:40<00:00, 11.77it/s, now=None]"
     ]
    },
    {
     "name": "stdout",
     "output_type": "stream",
     "text": [
      "In process_image2\n",
      "In process_image2\n",
      "In process_image2\n"
     ]
    },
    {
     "name": "stderr",
     "output_type": "stream",
     "text": [
      "\r",
      "t: 100%|█████████▉| 1256/1260 [01:41<00:00, 11.99it/s, now=None]"
     ]
    },
    {
     "name": "stdout",
     "output_type": "stream",
     "text": [
      "In process_image2\n",
      "In process_image2\n",
      "In process_image2\n"
     ]
    },
    {
     "name": "stderr",
     "output_type": "stream",
     "text": [
      "t: 100%|██████████| 1260/1260 [01:41<00:00, 12.14it/s, now=None]"
     ]
    },
    {
     "name": "stdout",
     "output_type": "stream",
     "text": [
      "In process_image2\n",
      "In process_image2\n",
      "In process_image2\n"
     ]
    },
    {
     "name": "stderr",
     "output_type": "stream",
     "text": [
      "                                                                \r"
     ]
    },
    {
     "name": "stdout",
     "output_type": "stream",
     "text": [
      "Moviepy - Done !\n",
      "Moviepy - video ready project_video_out.mp4\n",
      "CPU times: user 3min 9s, sys: 2min 5s, total: 5min 14s\n",
      "Wall time: 1min 41s\n"
     ]
    }
   ],
   "source": [
    "from moviepy.editor import VideoFileClip\n",
    "#white_output = 'test_videos_output/solidWhiteRight.mp4'\n",
    "## To speed up the testing process you may want to try your pipeline on a shorter subclip of the video\n",
    "## To do so add .subclip(start_second,end_second) to the end of the line below\n",
    "## Where start_second and end_second are integer values representing the start and end of the subclip\n",
    "## You may also uncomment the following line for a subclip of the first 5 seconds\n",
    "##clip1 = VideoFileClip(\"test_videos/solidWhiteRight.mp4\").subclip(0,5)\n",
    "#clip1 = VideoFileClip(\"test_videos/solidWhiteRight.mp4\")\n",
    "#temp = 'test_videos_output/solidWhiteRight.mp4'\n",
    "\n",
    "left_fit = []\n",
    "right_fit = []\n",
    "\n",
    "#clip1 = VideoFileClip('project_video.mp4')\n",
    "clip1 = VideoFileClip('project_video.mp4')\n",
    "\n",
    "#challenge_video\n",
    "\n",
    "\n",
    "white_output = 'project_video_out.mp4'\n",
    "\n",
    "white_clip = clip1.fl_image(process_image) #NOTE: this function expects color images!!\n",
    "%time white_clip.write_videofile(white_output, audio=False) "
   ]
  },
  {
   "cell_type": "code",
   "execution_count": 4,
   "metadata": {},
   "outputs": [
    {
     "name": "stdout",
     "output_type": "stream",
     "text": [
      "In process_image2\n"
     ]
    },
    {
     "data": {
      "text/plain": [
       "<matplotlib.image.AxesImage at 0x7f5fda86a790>"
      ]
     },
     "execution_count": 4,
     "metadata": {},
     "output_type": "execute_result"
    }
   ],
   "source": [
    "## PIPELINE STARTS HEREwarp_image\n",
    "fname = testDataPath + '/' + 'test1.jpg';\n",
    "#fname = calDataPath +  '/' + 'calibration1.jpg';\n",
    "\n",
    "frame = cv2.imread(fname)\n",
    "frame = cv2.cvtColor(frame, cv2.COLOR_BGR2RGB )\n",
    "init()\n",
    "res=process_image(frame, True, 'test1')\n",
    "plt.imshow(res)\n",
    "\n",
    "#for i in range(3) :\n",
    "#    plt.figure(i+1)\n",
    "#    plt.imshow( frame[:,:,i])\n",
    "\n"
   ]
  },
  {
   "cell_type": "code",
   "execution_count": 14,
   "metadata": {},
   "outputs": [
    {
     "name": "stdout",
     "output_type": "stream",
     "text": [
      "[[-1.62500000e+00  8.92247511e+00 -6.37286629e+03]\n",
      " [ 1.85369521e-15  5.76955903e+00 -5.13934566e+03]\n",
      " [ 4.45599811e-18  1.38691323e-02 -1.13541963e+01]]\n"
     ]
    }
   ],
   "source": [
    "print(  np.linalg.inv(M) )"
   ]
  },
  {
   "cell_type": "code",
   "execution_count": 64,
   "metadata": {},
   "outputs": [
    {
     "ename": "error",
     "evalue": "OpenCV(4.3.0) /io/opencv/modules/imgproc/src/drawing.cpp:2374: error: (-215:Assertion failed) p.checkVector(2, CV_32S) >= 0 in function 'fillPoly'\n",
     "output_type": "error",
     "traceback": [
      "\u001b[0;31m---------------------------------------------------------------------------\u001b[0m",
      "\u001b[0;31merror\u001b[0m                                     Traceback (most recent call last)",
      "\u001b[0;32m<ipython-input-64-5f66250e3ac8>\u001b[0m in \u001b[0;36m<module>\u001b[0;34m\u001b[0m\n\u001b[1;32m      6\u001b[0m \u001b[0;31m#print (a.checkVector(2, CV_32S) )\u001b[0m\u001b[0;34m\u001b[0m\u001b[0;34m\u001b[0m\u001b[0;34m\u001b[0m\u001b[0m\n\u001b[1;32m      7\u001b[0m \u001b[0;34m\u001b[0m\u001b[0m\n\u001b[0;32m----> 8\u001b[0;31m \u001b[0mcv2\u001b[0m\u001b[0;34m.\u001b[0m\u001b[0mfillPoly\u001b[0m\u001b[0;34m(\u001b[0m\u001b[0mcr\u001b[0m\u001b[0;34m,\u001b[0m \u001b[0ma\u001b[0m\u001b[0;34m,\u001b[0m \u001b[0;34m(\u001b[0m\u001b[0;36m0\u001b[0m\u001b[0;34m,\u001b[0m\u001b[0;36m255\u001b[0m\u001b[0;34m,\u001b[0m \u001b[0;36m0\u001b[0m\u001b[0;34m)\u001b[0m\u001b[0;34m)\u001b[0m\u001b[0;34m\u001b[0m\u001b[0;34m\u001b[0m\u001b[0m\n\u001b[0m\u001b[1;32m      9\u001b[0m \u001b[0;34m\u001b[0m\u001b[0m\n",
      "\u001b[0;31merror\u001b[0m: OpenCV(4.3.0) /io/opencv/modules/imgproc/src/drawing.cpp:2374: error: (-215:Assertion failed) p.checkVector(2, CV_32S) >= 0 in function 'fillPoly'\n"
     ]
    }
   ],
   "source": [
    " a=np.array( [( 91 ,233),\n",
    " (419 ,227),\n",
    " (410, 324),\n",
    " ( 94, 349)], 'int32')\n",
    "    \n",
    "#print (a.checkVector(2, CV_32S) )\n",
    "\n",
    "cv2.fillPoly(cr, a, (0,255, 0))\n",
    "    "
   ]
  },
  {
   "cell_type": "code",
   "execution_count": 65,
   "metadata": {},
   "outputs": [],
   "source": [
    "a=np.int_(pt)\n"
   ]
  },
  {
   "cell_type": "code",
   "execution_count": 7,
   "metadata": {},
   "outputs": [
    {
     "name": "stdout",
     "output_type": "stream",
     "text": [
      "0.11\n"
     ]
    }
   ],
   "source": [
    "\n",
    "\n",
    "\n",
    "print(str( ((0.111 * 100)//1)/100 ))\n"
   ]
  },
  {
   "cell_type": "code",
   "execution_count": 56,
   "metadata": {},
   "outputs": [
    {
     "name": "stdout",
     "output_type": "stream",
     "text": [
      "(720, 1280, 3)\n"
     ]
    }
   ],
   "source": [
    "print(cr.shape)"
   ]
  },
  {
   "cell_type": "code",
   "execution_count": 5,
   "metadata": {},
   "outputs": [
    {
     "name": "stdout",
     "output_type": "stream",
     "text": [
      "[-730.76923077 -526.15384615   -0.73076923]\n"
     ]
    }
   ],
   "source": [
    "print() )"
   ]
  },
  {
   "cell_type": "code",
   "execution_count": 10,
   "metadata": {},
   "outputs": [
    {
     "name": "stdout",
     "output_type": "stream",
     "text": [
      "[200. 350.   1.]\n"
     ]
    }
   ],
   "source": [
    "res = np.matmul(M, [550, 480 ,1])\n",
    "print(res/res[2])"
   ]
  },
  {
   "cell_type": "code",
   "execution_count": 12,
   "metadata": {},
   "outputs": [
    {
     "name": "stdout",
     "output_type": "stream",
     "text": [
      "range(0, 10)\n"
     ]
    }
   ],
   "source": [
    "print (range(10))\n"
   ]
  },
  {
   "cell_type": "code",
   "execution_count": null,
   "metadata": {},
   "outputs": [],
   "source": []
  }
 ],
 "metadata": {
  "anaconda-cloud": {},
  "kernelspec": {
   "display_name": "Python [conda env:root]",
   "language": "python",
   "name": "conda-root-py"
  },
  "language_info": {
   "codemirror_mode": {
    "name": "ipython",
    "version": 3
   },
   "file_extension": ".py",
   "mimetype": "text/x-python",
   "name": "python",
   "nbconvert_exporter": "python",
   "pygments_lexer": "ipython3",
   "version": "3.7.6"
  }
 },
 "nbformat": 4,
 "nbformat_minor": 1
}
